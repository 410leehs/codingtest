{
 "cells": [
  {
   "cell_type": "markdown",
   "metadata": {},
   "source": [
    "### 코스피 분석 연습\n",
    "* http://www.paxnet.co.kr/stock/sise/KOSPI?wlog_rpax=KOSPI\n",
    "* 팍스넷의 데이터 웹크롤링을 통한 코스피 일별 거래정보 획득\n"
   ]
  },
  {
   "cell_type": "code",
   "execution_count": 22,
   "metadata": {},
   "outputs": [],
   "source": [
    "import sqlite3\n",
    "import requests\n",
    "from bs4 import BeautifulSoup\n",
    "dbname='paxstock.db'"
   ]
  },
  {
   "cell_type": "code",
   "execution_count": 23,
   "metadata": {},
   "outputs": [],
   "source": [
    "#['20190710', '2058.78', '2061.55', '2068.20', '2056.48', 1, '6.75', '+0.33', '355677']\n",
    "def maketable():\n",
    "    with sqlite3.connect(dbname) as conn:\n",
    "        cur=conn.cursor()\n",
    "        sql=\"\"\"create table kospi(\n",
    "        IDX integer primary key,\n",
    "        EPRICE REAL,\n",
    "        SPRICE REAL,\n",
    "        HPRICE REAL,\n",
    "        LPRICE REAL,\n",
    "        UDCODE integer,\n",
    "        UDOWN  REAL,\n",
    "        UDRATE  REAL,\n",
    "        TRQTY integer )\"\"\"\n",
    "        cur.execute(sql)\n",
    "        conn.commit()\n",
    "        cur.close()"
   ]
  },
  {
   "cell_type": "code",
   "execution_count": 24,
   "metadata": {},
   "outputs": [
    {
     "ename": "OperationalError",
     "evalue": "table kospi already exists",
     "output_type": "error",
     "traceback": [
      "\u001b[1;31m---------------------------------------------------------------------------\u001b[0m",
      "\u001b[1;31mOperationalError\u001b[0m                          Traceback (most recent call last)",
      "\u001b[1;32m<ipython-input-24-5fecb88a10bb>\u001b[0m in \u001b[0;36m<module>\u001b[1;34m\u001b[0m\n\u001b[1;32m----> 1\u001b[1;33m \u001b[0mmaketable\u001b[0m\u001b[1;33m(\u001b[0m\u001b[1;33m)\u001b[0m\u001b[1;33m\u001b[0m\u001b[1;33m\u001b[0m\u001b[0m\n\u001b[0m",
      "\u001b[1;32m<ipython-input-23-f85ce2bb910a>\u001b[0m in \u001b[0;36mmaketable\u001b[1;34m()\u001b[0m\n\u001b[0;32m     13\u001b[0m         \u001b[0mUDRATE\u001b[0m  \u001b[0mREAL\u001b[0m\u001b[1;33m,\u001b[0m\u001b[1;33m\u001b[0m\u001b[1;33m\u001b[0m\u001b[0m\n\u001b[0;32m     14\u001b[0m         TRQTY integer )\"\"\"\n\u001b[1;32m---> 15\u001b[1;33m         \u001b[0mcur\u001b[0m\u001b[1;33m.\u001b[0m\u001b[0mexecute\u001b[0m\u001b[1;33m(\u001b[0m\u001b[0msql\u001b[0m\u001b[1;33m)\u001b[0m\u001b[1;33m\u001b[0m\u001b[1;33m\u001b[0m\u001b[0m\n\u001b[0m\u001b[0;32m     16\u001b[0m         \u001b[0mconn\u001b[0m\u001b[1;33m.\u001b[0m\u001b[0mcommit\u001b[0m\u001b[1;33m(\u001b[0m\u001b[1;33m)\u001b[0m\u001b[1;33m\u001b[0m\u001b[1;33m\u001b[0m\u001b[0m\n\u001b[0;32m     17\u001b[0m         \u001b[0mcur\u001b[0m\u001b[1;33m.\u001b[0m\u001b[0mclose\u001b[0m\u001b[1;33m(\u001b[0m\u001b[1;33m)\u001b[0m\u001b[1;33m\u001b[0m\u001b[1;33m\u001b[0m\u001b[0m\n",
      "\u001b[1;31mOperationalError\u001b[0m: table kospi already exists"
     ]
    }
   ],
   "source": [
    "maketable()"
   ]
  },
  {
   "cell_type": "code",
   "execution_count": 25,
   "metadata": {},
   "outputs": [],
   "source": [
    "def insertdb(data):\n",
    "    with sqlite3.connect(dbname) as conn:\n",
    "        cur=conn.cursor()\n",
    "        #종가\t시가\t고가\t저가\t전일비\t등락률\t거래량(천주)\n",
    "        sql=\"\"\"\n",
    "        insert into kospi \n",
    "        (IDX,EPRICE,SPRICE,HPRICE,LPRICE,UDCODE,UDOWN,UDRATE,TRQTY)\n",
    "        values(?,?,?,?,?,?,?,?,?)\n",
    "        \"\"\"\n",
    "        idx=cur.execute(sql,data)\n",
    "        sql_title='select last_insert_rowid()'\n",
    "        resultid=cur.execute(sql_title).fetchall()\n",
    "        print('lastid in:',resultid[0])\n",
    "        return resultid[0][0]\n",
    "        "
   ]
  },
  {
   "cell_type": "code",
   "execution_count": 26,
   "metadata": {},
   "outputs": [
    {
     "ename": "IntegrityError",
     "evalue": "UNIQUE constraint failed: kospi.IDX",
     "output_type": "error",
     "traceback": [
      "\u001b[1;31m---------------------------------------------------------------------------\u001b[0m",
      "\u001b[1;31mIntegrityError\u001b[0m                            Traceback (most recent call last)",
      "\u001b[1;32m<ipython-input-26-778ca5136f8d>\u001b[0m in \u001b[0;36m<module>\u001b[1;34m\u001b[0m\n\u001b[0;32m      1\u001b[0m \u001b[0md\u001b[0m\u001b[1;33m=\u001b[0m\u001b[1;33m[\u001b[0m\u001b[1;34m'20190710'\u001b[0m\u001b[1;33m,\u001b[0m \u001b[1;34m'2058.78'\u001b[0m\u001b[1;33m,\u001b[0m \u001b[1;34m'2061.55'\u001b[0m\u001b[1;33m,\u001b[0m \u001b[1;34m'2068.20'\u001b[0m\u001b[1;33m,\u001b[0m \u001b[1;34m'2056.48'\u001b[0m\u001b[1;33m,\u001b[0m \u001b[1;36m1\u001b[0m\u001b[1;33m,\u001b[0m \u001b[1;34m'6.75'\u001b[0m\u001b[1;33m,\u001b[0m \u001b[1;34m'+0.33'\u001b[0m\u001b[1;33m,\u001b[0m \u001b[1;34m'355677'\u001b[0m\u001b[1;33m]\u001b[0m\u001b[1;33m\u001b[0m\u001b[1;33m\u001b[0m\u001b[0m\n\u001b[1;32m----> 2\u001b[1;33m \u001b[0minsertdb\u001b[0m\u001b[1;33m(\u001b[0m\u001b[0md\u001b[0m\u001b[1;33m)\u001b[0m\u001b[1;33m\u001b[0m\u001b[1;33m\u001b[0m\u001b[0m\n\u001b[0m",
      "\u001b[1;32m<ipython-input-25-c80d5d2dc4a4>\u001b[0m in \u001b[0;36minsertdb\u001b[1;34m(data)\u001b[0m\n\u001b[0;32m      8\u001b[0m         \u001b[0mvalues\u001b[0m\u001b[1;33m(\u001b[0m\u001b[0;31m?\u001b[0m\u001b[1;33m,\u001b[0m\u001b[0;31m?\u001b[0m\u001b[1;33m,\u001b[0m\u001b[0;31m?\u001b[0m\u001b[1;33m,\u001b[0m\u001b[0;31m?\u001b[0m\u001b[1;33m,\u001b[0m\u001b[0;31m?\u001b[0m\u001b[1;33m,\u001b[0m\u001b[0;31m?\u001b[0m\u001b[1;33m,\u001b[0m\u001b[0;31m?\u001b[0m\u001b[1;33m,\u001b[0m\u001b[0;31m?\u001b[0m\u001b[1;33m,\u001b[0m\u001b[0;31m?\u001b[0m\u001b[1;33m)\u001b[0m\u001b[1;33m\u001b[0m\u001b[1;33m\u001b[0m\u001b[0m\n\u001b[0;32m      9\u001b[0m         \"\"\"\n\u001b[1;32m---> 10\u001b[1;33m         \u001b[0midx\u001b[0m\u001b[1;33m=\u001b[0m\u001b[0mcur\u001b[0m\u001b[1;33m.\u001b[0m\u001b[0mexecute\u001b[0m\u001b[1;33m(\u001b[0m\u001b[0msql\u001b[0m\u001b[1;33m,\u001b[0m\u001b[0mdata\u001b[0m\u001b[1;33m)\u001b[0m\u001b[1;33m\u001b[0m\u001b[1;33m\u001b[0m\u001b[0m\n\u001b[0m\u001b[0;32m     11\u001b[0m         \u001b[0msql_title\u001b[0m\u001b[1;33m=\u001b[0m\u001b[1;34m'select last_insert_rowid()'\u001b[0m\u001b[1;33m\u001b[0m\u001b[1;33m\u001b[0m\u001b[0m\n\u001b[0;32m     12\u001b[0m         \u001b[0mresultid\u001b[0m\u001b[1;33m=\u001b[0m\u001b[0mcur\u001b[0m\u001b[1;33m.\u001b[0m\u001b[0mexecute\u001b[0m\u001b[1;33m(\u001b[0m\u001b[0msql_title\u001b[0m\u001b[1;33m)\u001b[0m\u001b[1;33m.\u001b[0m\u001b[0mfetchall\u001b[0m\u001b[1;33m(\u001b[0m\u001b[1;33m)\u001b[0m\u001b[1;33m\u001b[0m\u001b[1;33m\u001b[0m\u001b[0m\n",
      "\u001b[1;31mIntegrityError\u001b[0m: UNIQUE constraint failed: kospi.IDX"
     ]
    }
   ],
   "source": [
    "d=['20190710', '2058.78', '2061.55', '2068.20', '2056.48', 1, '6.75', '+0.33', '355677']\n",
    "insertdb(d)"
   ]
  },
  {
   "cell_type": "raw",
   "metadata": {},
   "source": [
    "def checktitle(t,cur):\n",
    "    sql_title='select TIDX from titles where TNAME=\"'+t+'\"'\n",
    "    resultid=cur.execute(sql_title).fetchall()\n",
    "    if(resultid):\n",
    "       # print('lastid:',resultid[0][0])\n",
    "        return resultid[0][0]\n",
    "    else:\n",
    "        sql_title='insert into titles (TNAME) values(\"'+t+'\")'\n",
    "        print(sql_title)\n",
    "        cur.execute(sql_title)\n",
    "        sql_title='select last_insert_rowid()'\n",
    "        resultid=cur.execute(sql_title).fetchall()\n",
    "        print('lastid in:',resultid[0])\n",
    "        return resultid[0][0]"
   ]
  },
  {
   "cell_type": "code",
   "execution_count": 27,
   "metadata": {},
   "outputs": [],
   "source": [
    "def Mycrawl(soup):\n",
    "    tgt=soup.select('div.table-scroll table.table-data tbody > tr ')\n",
    "    #, row_factory=sqlite3.Row\n",
    "    with sqlite3.connect(dbname) as conn:\n",
    "        for t in tgt:\n",
    "            data=[]\n",
    "            idx=t.select('td > strong')[0].get_text() #print(idx)[0].get_text()\n",
    "            idx=idx.replace('.','')# 날짜를 키값으로 사용하기\n",
    "            #print(\"row:\",idx,end=\"\\n\")\n",
    "            #종가\t시가\t고가\t저가\t전일비\t등락률\t거래량(천주)\n",
    "            eprice=t.select('td.a-right')[0].get_text().replace(',','')\n",
    "            sprice=t.select('td.a-right')[1].get_text().replace(',','')\n",
    "            hprice=t.select('td.a-right')[2].get_text().replace(',','')\n",
    "            lprice=t.select('td.a-right')[3].get_text().replace(',','')\n",
    "            \n",
    "            udrate=t.select('td.a-right')[5].get_text().strip().replace('%','')\n",
    "            trqty=t.select('td.a-right')[6].get_text().replace(',','')\n",
    "            \n",
    "            updown=t.select('td.a-right > span.rise')\n",
    "            if(updown):\n",
    "                udown=updown[0].get_text()\n",
    "                udcode=1\n",
    "                udown=udown.replace('상향','').strip()\n",
    "            else:\n",
    "                udcode=-1\n",
    "                udown=t.select('td.a-right > span.fall')[0].get_text()\n",
    "                udown=udown.replace('하향','').strip()\n",
    "            data=[idx,eprice,sprice,hprice,lprice,udcode,udown,udrate,trqty]\n",
    "            print(data,end=\"\\n\")\n",
    "            \n",
    "            #title=t.select('a.movie')[0].get_text()     #print(title,end=\"\\n\")\n",
    "            \n",
    " "
   ]
  },
  {
   "cell_type": "code",
   "execution_count": 28,
   "metadata": {},
   "outputs": [
    {
     "name": "stdout",
     "output_type": "stream",
     "text": [
      "['20190710', '2058.78', '2061.55', '2068.20', '2056.48', 1, '6.75', '+0.33', '355677']\n",
      "['20190709', '2052.03', '2070.35', '2075.30', '2052.03', -1, '12.14', '-0.59', '440122']\n",
      "['20190708', '2064.17', '2091.91', '2092.54', '2063.78', -1, '46.42', '-2.20', '515950']\n",
      "['20190705', '2110.59', '2111.00', '2115.43', '2096.23', 1, '1.86', '+0.09', '459391']\n",
      "['20190704', '2108.73', '2102.36', '2108.80', '2088.97', 1, '12.71', '+0.61', '446932']\n",
      "['20190703', '2096.02', '2120.75', '2127.71', '2093.32', -1, '26.00', '-1.23', '522709']\n",
      "['20190702', '2122.02', '2122.07', '2130.86', '2112.52', -1, '7.72', '-0.36', '460830']\n",
      "['20190701', '2129.74', '2147.24', '2147.24', '2126.87', -1, '0.88', '-0.04', '412291']\n",
      "['20190628', '2130.62', '2135.06', '2139.24', '2123.97', -1, '3.70', '-0.17', '537274']\n",
      "['20190627', '2134.32', '2120.73', '2141.27', '2118.22', 1, '12.47', '+0.59', '644900']\n",
      "['20190626', '2121.85', '2120.20', '2128.25', '2115.72', 1, '0.21', '+0.01', '736851']\n",
      "['20190625', '2121.64', '2125.74', '2136.24', '2115.11', -1, '4.69', '-0.22', '642999']\n",
      "['20190624', '2126.33', '2130.32', '2134.48', '2123.88', 1, '0.71', '+0.03', '669639']\n",
      "['20190621', '2125.62', '2132.38', '2132.68', '2120.15', -1, '5.67', '-0.27', '692027']\n",
      "['20190620', '2131.29', '2121.78', '2131.77', '2120.42', 1, '6.51', '+0.31', '1007158']\n",
      "['20190619', '2124.78', '2119.54', '2126.74', '2117.64', 1, '26.07', '+1.24', '862980']\n",
      "['20190618', '2098.71', '2089.31', '2103.02', '2089.31', 1, '7.98', '+0.38', '600964']\n",
      "['20190617', '2090.73', '2091.71', '2103.59', '2087.25', -1, '4.68', '-0.22', '561550']\n",
      "['20190614', '2095.41', '2096.32', '2103.02', '2087.47', -1, '7.74', '-0.37', '473370']\n",
      "['20190613', '2103.15', '2104.46', '2108.01', '2081.92', -1, '5.60', '-0.27', '553393']\n",
      "['20190612', '2108.75', '2111.66', '2118.89', '2104.41', -1, '3.06', '-0.14', '693507']\n",
      "['20190611', '2111.81', '2096.09', '2114.57', '2094.60', 1, '12.32', '+0.59', '550740']\n",
      "['20190610', '2099.49', '2087.37', '2099.65', '2075.51', 1, '27.16', '+1.31', '457640']\n",
      "['20190607', '2072.33', '2070.78', '2081.16', '2057.97', 1, '3.22', '+0.16', '368392']\n",
      "['20190605', '2069.11', '2084.16', '2086.49', '2065.71', 1, '2.14', '+0.10', '380156']\n",
      "['20190604', '2066.97', '2066.78', '2072.19', '2060.98', -1, '0.88', '-0.04', '435991']\n",
      "['20190603', '2067.85', '2031.03', '2070.58', '2029.17', 1, '26.11', '+1.28', '387145']\n",
      "['20190531', '2041.74', '2029.03', '2048.90', '2022.97', 1, '2.94', '+0.14', '439181']\n",
      "['20190530', '2038.80', '2024.33', '2040.66', '2023.91', 1, '15.48', '+0.77', '461850']\n",
      "['20190529', '2023.32', '2046.71', '2046.71', '2016.25', -1, '25.51', '-1.25', '380893']\n"
     ]
    }
   ],
   "source": [
    "for i in range(1,2):\n",
    "    url='http://www.paxnet.co.kr/stock/sise/siseJisuDataListAjax?searchType=kospi&currentPageNo='\n",
    "    url+=str(i)\n",
    "    url+='&searchSort=&searchExchange=KSE&searchTerm=&searchUpDown='\n",
    "    result=requests.get(url)\n",
    "    src=result.content\n",
    "    #print(result.content)\n",
    "    soup=BeautifulSoup(src,'html.parser')\n",
    "    #print(url,end=\"\\n\")\n",
    "    Mycrawl(soup)"
   ]
  },
  {
   "cell_type": "raw",
   "metadata": {},
   "source": [
    "result=requests.get(url)\n",
    "src=result.content\n",
    "#print(result.content)\n",
    "soup=BeautifulSoup(src,'html.parser')\n",
    "#title=soup.find('title')\n",
    "#print(title)"
   ]
  },
  {
   "cell_type": "raw",
   "metadata": {},
   "source": [
    "           tcode=checktitle(title,cur)\n",
    "            #print(tcoder)\n",
    "        cur=conn.cursor()\n",
    "        sql='insert into movie (IDX,TITLE,CONTENT,POINT,TCODE) values(?,?,?,?,?)'\n",
    "             \n",
    "            sql_sel='select IDX from movie where IDX='+idx\n",
    "            resultid=cur.execute(sql_sel).fetchall()\n",
    "            #print(resultid)\n",
    "            if(resultid):\n",
    "                print('중복에러:'+idx,end=\"\\n\")\n",
    "            else:\n",
    "                idx=int(idx)\n",
    "                point=t.select('td.point')[0].get_text()\n",
    "                point=int(point)        #print(point,end=\"\\n\")\n",
    "                #title 은 titles 테이블 관리를 위해 올라감\n",
    "                content=t.select('td.title')[0].get_text()   #print(content[0],end=\"\\n\")\n",
    "                c=content.replace(title,'').replace('신고','').strip()\n",
    "                #print(c)\n",
    "                d=[idx,title,c,point,tcode]\n",
    "                #print(d,end=\"\\n\")\n",
    "                cur.execute(sql,d)\n",
    "        conn.commit()\n",
    "        cur.close()"
   ]
  },
  {
   "cell_type": "raw",
   "metadata": {},
   "source": [
    "\n",
    "with sqlite3.connect(dbname) as conn:\n",
    "    cur=conn.cursor()\n",
    "    sql='create table movie(IDX integer primary key,TITLE varchar(100),CONTENT varchar(200), POINT integer)'\n",
    "    cur.execute(sql)\n",
    "    conn.commit()\n",
    "    cur.close()"
   ]
  }
 ],
 "metadata": {
  "kernelspec": {
   "display_name": "Python 3",
   "language": "python",
   "name": "python3"
  },
  "language_info": {
   "codemirror_mode": {
    "name": "ipython",
    "version": 3
   },
   "file_extension": ".py",
   "mimetype": "text/x-python",
   "name": "python",
   "nbconvert_exporter": "python",
   "pygments_lexer": "ipython3",
   "version": "3.7.3"
  }
 },
 "nbformat": 4,
 "nbformat_minor": 2
}
