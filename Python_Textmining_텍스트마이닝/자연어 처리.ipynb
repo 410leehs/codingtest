{
 "cells": [
  {
   "cell_type": "markdown",
   "metadata": {},
   "source": [
    "#자연어 처리 리뷰활용\n",
    "\n",
    "*konlpy를 이용한 자연어 처리\n",
    "\n",
    "*64bit mem 8G 이상요망"
   ]
  },
  {
   "cell_type": "code",
   "execution_count": null,
   "metadata": {},
   "outputs": [],
   "source": []
  },
  {
   "cell_type": "code",
   "execution_count": 1,
   "metadata": {},
   "outputs": [],
   "source": [
    "import konlpy,sqlite3\n",
    "from konlpy.tag import *\n",
    "from konlpy.utils import pprint"
   ]
  },
  {
   "cell_type": "markdown",
   "metadata": {},
   "source": [
    "###형태소 분석기 초기화"
   ]
  },
  {
   "cell_type": "code",
   "execution_count": 2,
   "metadata": {},
   "outputs": [
    {
     "name": "stderr",
     "output_type": "stream",
     "text": [
      "C:\\ProgramData\\Anaconda3\\lib\\site-packages\\jpype\\_core.py:210: UserWarning: \n",
      "-------------------------------------------------------------------------------\n",
      "Deprecated: convertStrings was not specified when starting the JVM. The default\n",
      "behavior in JPype will be False starting in JPype 0.8. The recommended setting\n",
      "for new code is convertStrings=False.  The legacy value of True was assumed for\n",
      "this session. If you are a user of an application that reported this warning,\n",
      "please file a ticket with the developer.\n",
      "-------------------------------------------------------------------------------\n",
      "\n",
      "  \"\"\")\n"
     ]
    }
   ],
   "source": [
    "hannanum=Hannanum()\n",
    "kkma = Kkma()\n",
    "#komoran=Komoran() 메모리\n",
    "okt=Okt()"
   ]
  },
  {
   "cell_type": "code",
   "execution_count": 3,
   "metadata": {},
   "outputs": [
    {
     "data": {
      "text/plain": [
       "<konlpy.tag._hannanum.Hannanum at 0x17119eccfd0>"
      ]
     },
     "execution_count": 3,
     "metadata": {},
     "output_type": "execute_result"
    }
   ],
   "source": [
    "c=\"안녕하세요 여러분\"\n",
    "kkma.nouns(c[:40])\n",
    "hannanum.nouns(c[:40])\n",
    "\n",
    "hannanum"
   ]
  },
  {
   "cell_type": "code",
   "execution_count": 4,
   "metadata": {},
   "outputs": [],
   "source": [
    "dbname=\"bank11.db\""
   ]
  },
  {
   "cell_type": "code",
   "execution_count": 44,
   "metadata": {},
   "outputs": [
    {
     "name": "stdout",
     "output_type": "stream",
     "text": [
      "['질문', '건의', '건의사항', '사항', '깃헙', '이슈', '트래커']\n"
     ]
    }
   ],
   "source": [
    "pprint(kkma.nouns(u'질문이나 건의사항은 깃헙 이슈 트래커에 남겨주세요.'))"
   ]
  },
  {
   "cell_type": "code",
   "execution_count": 45,
   "metadata": {},
   "outputs": [
    {
     "name": "stdout",
     "output_type": "stream",
     "text": [
      "[('오류', 'NNG'),\n",
      " ('보고', 'NNG'),\n",
      " ('는', 'JX'),\n",
      " ('실행', 'NNG'),\n",
      " ('환경', 'NNG'),\n",
      " (',', 'SP'),\n",
      " ('에러', 'NNG'),\n",
      " ('메세지', 'NNG'),\n",
      " ('와', 'JKM'),\n",
      " ('함께', 'MAG'),\n",
      " ('설명', 'NNG'),\n",
      " ('을', 'JKO'),\n",
      " ('최대한', 'NNG'),\n",
      " ('상세히', 'MAG'),\n",
      " ('!', 'SF'),\n",
      " ('^^', 'EMO')]\n"
     ]
    }
   ],
   "source": [
    "pprint(kkma.pos(u'오류보고는 실행환경, 에러메세지와함께 설명을 최대한상세히!^^'))\n"
   ]
  },
  {
   "cell_type": "code",
   "execution_count": 46,
   "metadata": {},
   "outputs": [],
   "source": [
    "dbname=\"namovie.db\""
   ]
  },
  {
   "cell_type": "code",
   "execution_count": 47,
   "metadata": {},
   "outputs": [],
   "source": [
    "\n",
    "def seldb(tcode):\n",
    "    with sqlite3.connect(dbname) as conn:\n",
    "        cur=conn.cursor() #커서는 하나씩 일을해나가는것\n",
    "        sql=\"\"\"\n",
    "        select \n",
    "        IDX,TITLE,CONTENT,POINT \n",
    "        from movie1 \n",
    "        where TCODE='\"\"\"+str(tcode)+\"\"\"'\n",
    "        order by IDX\n",
    "        \"\"\"\n",
    "        data=cur.execute(sql).fetchall()\n",
    "        xdata=[]\n",
    "        ydata=[]\n",
    "        i=0\n",
    "        for d in data:\n",
    "            \n",
    "            xdata.append(i)\n",
    "            ydata.append(d[2])\n",
    "            i+=1\n",
    "            print(d,end=\"\\n\")\n",
    "            \n",
    "        conn.commit() #최종확인\n",
    "        cur.close()\n",
    "        return (xdata,ydata)\n",
    "        "
   ]
  },
  {
   "cell_type": "code",
   "execution_count": 48,
   "metadata": {},
   "outputs": [],
   "source": [
    "def seltitle():\n",
    "    fig=plt.figure(figsize=(30,60))\n",
    "    with sqlite3.connect(dbname) as conn:\n",
    "        cur=conn.cursor() #커서는 하나씩 일을해나가는것\n",
    "        sql= 'select TIDX, TNAME from titles order by TIDX'\n",
    "        \n",
    "        data=cur.execute(sql).fetchall()\n",
    "        i=0\n",
    "        for d in data:\n",
    "            gdata=seldb(d[0])\n",
    "            if (len(gdata[0])>1):\n",
    "                #print(\"*\"*20)\n",
    "                #print(d[1])\n",
    "                #print(\"*\"*20)\n",
    "                #print(d,end=\"\\n\")\n",
    "                pos=divmod(i,3)\n",
    "                i+=1\n",
    "                plt.subplot(3,10,i)\n",
    "                x_=gdata[0]\n",
    "                y_=gdata[1]\n",
    "                #y=wx_+b\n",
    "                A=np.vstack([x_,np.ones(len(x_))]).T\n",
    "                w,b = np.linalg.listsq(A,y_)[0]\n",
    "                x_=np.ndarray(gdata[0])\n",
    "                plt.plot(x_,y_,'ro', label=\"DATA\")\n",
    "                plt.plot(x_,w*x_+b,'b', lacel=\"FIT\")\n",
    "                plt.legend()\n",
    "                \n",
    "                plt.title(d[1])\n",
    "        conn.commit() #최종확인\n",
    "        cur.close()\n",
    "        return (xdata,ydata)"
   ]
  },
  {
   "cell_type": "code",
   "execution_count": 51,
   "metadata": {},
   "outputs": [
    {
     "name": "stdout",
     "output_type": "stream",
     "text": [
      "(15889840, '진범', '방금 보고 나왔어요...기대하고  갔는데  지루해서 죽는줄ㅠㅠ기분좋게 갔는데 보고나니 머리가  아프네요~한국영화  발전해야합니다ㅠㅠ스파이더맨  볼껄 그랬어요... ㅠㅠ급 우울', 1)\n",
      "(15889844, '진범', '심장이 쫄깃 쫄깃... 합니다.', 10)\n",
      "(15889846, '진범', '약간 연극보는 느낌이 들었지만 볼만했습니다.송새벽님이 잘생겨보이다니니니니^^~', 7)\n",
      "(15889858, '진범', '재밌네요.  스릴러물 좋아요..', 10)\n",
      "(15889860, '진범', '한국스릴러의 결정판!!! 벌써 고정욱감독의 다음작품이 기대되네요 장마에 어울리는 영화입니다', 10)\n",
      "(15889870, '진범', '출연 배우도 많지 않고 배경공간도 한정적이지만 연출과 연기력으로다 커버하고도 남았다!!  설정된 인물 관계도 안에서 펼쳐지는 스릴러가 이렇게도  긴장될 줄이야~', 10)\n",
      "(15889923, '진범', '한국영화의 특징이 초반에는 잘 만들어진듯 하다가 막판에 흐지부지 정리하기 바쁜게 대부분인데 끝까지 흥미진지하게 본 영화였어요 꼭 한번 보세요 강추입니다.', 10)\n",
      "(15889924, '진범', '스릴러물을 제대로다  흥하길', 10)\n",
      "(15889938, '진범', '여러가지 감정선을 잘 표현한 스릴러', 10)\n",
      "(15889964, '진범', '반전과 반전간만에 본 영화다운 영화', 10)\n",
      "(15889991, '진범', '시나리오가 매우 탄탄하고 연기자들의 연기에 몰입이 되었네요 두번 봐도 아깝지 않은 영화입니다~~', 10)\n",
      "(15889992, '진범', '넘 재밌어요~  몰입도 최고!!', 10)\n",
      "(15889994, '진범', '9점은 왜 없는거죠?ㅋ배우들 연기 모두 좋았구요처음 의심했던 인물이 범인이었네요내 그럴줄 알았다니까~~~', 8)\n",
      "(15890006, '진범', '영화 재미지게 봤습니다~!', 10)\n",
      "(15890030, '진범', '잠오고  짜증 난다 돈이아깝다', 2)\n",
      "(15904213, '진범', '부천도 영화제가 있냐 권위는 있지?', 10)\n",
      "(15904219, '진범', '유선언니 연기짱!재밌어요', 10)\n",
      "(15904278, '진범', '쏘쏘 ㅋㅋ 딱 그대로 그럭저럭', 8)\n",
      "(15904288, '진범', '사람사는게 참...결혼은 잘해야한다', 6)\n",
      "(15904363, '진범', '뻔한 반전, 줄거리로 범인 누군지 알겠는데  질질 끄는느낌 재밌는지 모르겠어요', 5)\n",
      "(15904393, '진범', '그냥저냥 볼만한듯?..', 6)\n",
      "([0, 1, 2, 3, 4, 5, 6, 7, 8, 9, 10, 11, 12, 13, 14, 15, 16, 17, 18, 19, 20], ['방금 보고 나왔어요...기대하고  갔는데  지루해서 죽는줄ㅠㅠ기분좋게 갔는데 보고나니 머리가  아프네요~한국영화  발전해야합니다ㅠㅠ스파이더맨  볼껄 그랬어요... ㅠㅠ급 우울', '심장이 쫄깃 쫄깃... 합니다.', '약간 연극보는 느낌이 들었지만 볼만했습니다.송새벽님이 잘생겨보이다니니니니^^~', '재밌네요.  스릴러물 좋아요..', '한국스릴러의 결정판!!! 벌써 고정욱감독의 다음작품이 기대되네요 장마에 어울리는 영화입니다', '출연 배우도 많지 않고 배경공간도 한정적이지만 연출과 연기력으로다 커버하고도 남았다!!  설정된 인물 관계도 안에서 펼쳐지는 스릴러가 이렇게도  긴장될 줄이야~', '한국영화의 특징이 초반에는 잘 만들어진듯 하다가 막판에 흐지부지 정리하기 바쁜게 대부분인데 끝까지 흥미진지하게 본 영화였어요 꼭 한번 보세요 강추입니다.', '스릴러물을 제대로다  흥하길', '여러가지 감정선을 잘 표현한 스릴러', '반전과 반전간만에 본 영화다운 영화', '시나리오가 매우 탄탄하고 연기자들의 연기에 몰입이 되었네요 두번 봐도 아깝지 않은 영화입니다~~', '넘 재밌어요~  몰입도 최고!!', '9점은 왜 없는거죠?ㅋ배우들 연기 모두 좋았구요처음 의심했던 인물이 범인이었네요내 그럴줄 알았다니까~~~', '영화 재미지게 봤습니다~!', '잠오고  짜증 난다 돈이아깝다', '부천도 영화제가 있냐 권위는 있지?', '유선언니 연기짱!재밌어요', '쏘쏘 ㅋㅋ 딱 그대로 그럭저럭', '사람사는게 참...결혼은 잘해야한다', '뻔한 반전, 줄거리로 범인 누군지 알겠는데  질질 끄는느낌 재밌는지 모르겠어요', '그냥저냥 볼만한듯?..'])\n"
     ]
    }
   ],
   "source": [
    "gdata=seldb(12)\n",
    "print(gdata)"
   ]
  },
  {
   "cell_type": "code",
   "execution_count": 53,
   "metadata": {},
   "outputs": [
    {
     "name": "stdout",
     "output_type": "stream",
     "text": [
      "[['기대', '줄', '기분', '보고', '머리', '한국', '한국영화', '영화', '발전', '스파이', '스파이더맨', '더', '맨', '급', '우울'], ['심장'], ['연극', '느낌', '송', '송새벽', '새벽', '니'], ['스릴러', '스릴러물', '물'], ['한국', '한국스릴러', '스릴러', '결정판', '고정', '감독', '다음', '다음작품', '작품', '장마', '영화'], ['출연', '배우', '배경', '배경공간', '공간', '한정적', '연출', '연기력', '커버하고도', '설정', '인물', '관계', '안', '스릴러', '긴장', '줄'], ['한국', '한국영화', '영화', '특징', '초반', '듯', '막판', '정리', '대부분', '끝', '흥미', '흥미진지', '진지', '한번', '보세', '강추'], ['스릴러', '스릴러물', '물', '제대'], ['가지', '감정', '감정선', '선', '표현', '스릴러'], ['반전', '반전간만', '간만', '영화'], ['시나리오', '연', '연기자', '기자', '연기', '몰입', '번', '영화'], ['몰입', '최고'], ['9', '9점', '점', 'ㅋ', 'ㅋ배우', '배우', '연기', '처음', '의심', '인물', '범인', '내', '줄'], ['영화'], ['잠', '짜증', '돈'], ['부천', '영화제', '권위'], ['유선', '유선언니', '언니', '연기', '연기짱', '짱'], ['쏘쏘'], ['사람', '결혼'], ['반전', '줄거리', '범인', '누', '누군지', '군지', '느낌'], ['볼만', '듯']]\n"
     ]
    }
   ],
   "source": [
    "nt=[]\n",
    "for s in gdata[1]:\n",
    "    ns=kkma.nouns(s)\n",
    "    nt.append(ns)\n",
    "print(nt)"
   ]
  },
  {
   "cell_type": "code",
   "execution_count": 57,
   "metadata": {},
   "outputs": [
    {
     "name": "stdout",
     "output_type": "stream",
     "text": [
      "['기대', '줄', '기분', '보고', '머리', '한국', '한국영화', '영화', '발전', '스파이', '스파이더맨', '더', '맨', '급', '우울', '심장', '연극', '느낌', '송', '송새벽', '새벽', '니', '스릴러', '스릴러물', '물', '한국', '한국스릴러', '스릴러', '결정판', '고정', '감독', '다음', '다음작품', '작품', '장마', '영화', '출연', '배우', '배경', '배경공간', '공간', '한정적', '연출', '연기력', '커버하고도', '설정', '인물', '관계', '안', '스릴러', '긴장', '줄', '한국', '한국영화', '영화', '특징', '초반', '듯', '막판', '정리', '대부분', '끝', '흥미', '흥미진지', '진지', '한번', '보세', '강추', '스릴러', '스릴러물', '물', '제대', '가지', '감정', '감정선', '선', '표현', '스릴러', '반전', '반전간만', '간만', '영화', '시나리오', '연', '연기자', '기자', '연기', '몰입', '번', '영화', '몰입', '최고', '9', '9점', '점', 'ㅋ', 'ㅋ배우', '배우', '연기', '처음', '의심', '인물', '범인', '내', '줄', '영화', '잠', '짜증', '돈', '부천', '영화제', '권위', '유선', '유선언니', '언니', '연기', '연기짱', '짱', '쏘쏘', '사람', '결혼', '반전', '줄거리', '범인', '누', '누군지', '군지', '느낌', '볼만', '듯']\n"
     ]
    }
   ],
   "source": [
    "ntall=[]\n",
    "for n in nt:\n",
    "    ntall.extend(n)\n",
    "print(ntall)"
   ]
  },
  {
   "cell_type": "code",
   "execution_count": 58,
   "metadata": {},
   "outputs": [
    {
     "name": "stdout",
     "output_type": "stream",
     "text": [
      "Counter({'영화': 6, '스릴러': 5, '줄': 3, '한국': 3, '연기': 3, '한국영화': 2, '느낌': 2, '스릴러물': 2, '물': 2, '배우': 2, '인물': 2, '듯': 2, '반전': 2, '몰입': 2, '범인': 2, '기대': 1, '기분': 1, '보고': 1, '머리': 1, '발전': 1, '스파이': 1, '스파이더맨': 1, '더': 1, '맨': 1, '급': 1, '우울': 1, '심장': 1, '연극': 1, '송': 1, '송새벽': 1, '새벽': 1, '니': 1, '한국스릴러': 1, '결정판': 1, '고정': 1, '감독': 1, '다음': 1, '다음작품': 1, '작품': 1, '장마': 1, '출연': 1, '배경': 1, '배경공간': 1, '공간': 1, '한정적': 1, '연출': 1, '연기력': 1, '커버하고도': 1, '설정': 1, '관계': 1, '안': 1, '긴장': 1, '특징': 1, '초반': 1, '막판': 1, '정리': 1, '대부분': 1, '끝': 1, '흥미': 1, '흥미진지': 1, '진지': 1, '한번': 1, '보세': 1, '강추': 1, '제대': 1, '가지': 1, '감정': 1, '감정선': 1, '선': 1, '표현': 1, '반전간만': 1, '간만': 1, '시나리오': 1, '연': 1, '연기자': 1, '기자': 1, '번': 1, '최고': 1, '9': 1, '9점': 1, '점': 1, 'ㅋ': 1, 'ㅋ배우': 1, '처음': 1, '의심': 1, '내': 1, '잠': 1, '짜증': 1, '돈': 1, '부천': 1, '영화제': 1, '권위': 1, '유선': 1, '유선언니': 1, '언니': 1, '연기짱': 1, '짱': 1, '쏘쏘': 1, '사람': 1, '결혼': 1, '줄거리': 1, '누': 1, '누군지': 1, '군지': 1, '볼만': 1})\n"
     ]
    }
   ],
   "source": [
    "from collections import Counter\n",
    "count=Counter(ntall)\n",
    "print(count)"
   ]
  },
  {
   "cell_type": "code",
   "execution_count": 69,
   "metadata": {},
   "outputs": [
    {
     "data": {
      "text/plain": [
       "(0.0, 1.0, 0.0, 1.0)"
      ]
     },
     "execution_count": 69,
     "metadata": {},
     "output_type": "execute_result"
    },
    {
     "data": {
      "image/png": "[encoded data removed]",
      "text/plain": [
       "<Figure size 864x864 with 1 Axes>"
      ]
     },
     "metadata": {
      "needs_background": "light"
     },
     "output_type": "display_data"
    }
   ],
   "source": [
    "import matplotlib.pyplot as plt\n",
    "plt.figure(figsize=(12,12))\n",
    "plt.axis('off')"
   ]
  },
  {
   "cell_type": "code",
   "execution_count": 74,
   "metadata": {},
   "outputs": [
    {
     "ename": "ModuleNotFoundError",
     "evalue": "No module named 'wordcloud'",
     "output_type": "error",
     "traceback": [
      "\u001b[1;31m---------------------------------------------------------------------------\u001b[0m",
      "\u001b[1;31mModuleNotFoundError\u001b[0m                       Traceback (most recent call last)",
      "\u001b[1;32m<ipython-input-74-f4190aa09783>\u001b[0m in \u001b[0;36m<module>\u001b[1;34m\u001b[0m\n\u001b[1;32m----> 1\u001b[1;33m \u001b[1;32mfrom\u001b[0m \u001b[0mwordcloud\u001b[0m \u001b[1;32mimport\u001b[0m \u001b[0mWordCloud\u001b[0m\u001b[1;33m\u001b[0m\u001b[1;33m\u001b[0m\u001b[0m\n\u001b[0m\u001b[0;32m      2\u001b[0m \u001b[1;32mfrom\u001b[0m \u001b[0mkonlpy\u001b[0m\u001b[1;33m.\u001b[0m\u001b[0mcorpus\u001b[0m \u001b[1;32mimport\u001b[0m \u001b[0mkolaw\u001b[0m\u001b[1;33m\u001b[0m\u001b[1;33m\u001b[0m\u001b[0m\n\u001b[0;32m      3\u001b[0m \u001b[0mc\u001b[0m\u001b[1;33m=\u001b[0m\u001b[0mkolaw\u001b[0m\u001b[1;33m.\u001b[0m\u001b[0mopen\u001b[0m\u001b[1;33m(\u001b[0m\u001b[1;34m'constitution.txt'\u001b[0m\u001b[1;33m)\u001b[0m\u001b[1;33m.\u001b[0m\u001b[0mread\u001b[0m\u001b[1;33m(\u001b[0m\u001b[1;33m)\u001b[0m\u001b[1;33m\u001b[0m\u001b[1;33m\u001b[0m\u001b[0m\n\u001b[0;32m      4\u001b[0m \u001b[0mprint\u001b[0m\u001b[1;33m(\u001b[0m\u001b[0mc\u001b[0m\u001b[1;33m[\u001b[0m\u001b[1;33m:\u001b[0m\u001b[1;36m100\u001b[0m\u001b[1;33m]\u001b[0m\u001b[1;33m)\u001b[0m\u001b[1;33m\u001b[0m\u001b[1;33m\u001b[0m\u001b[0m\n",
      "\u001b[1;31mModuleNotFoundError\u001b[0m: No module named 'wordcloud'"
     ]
    }
   ],
   "source": [
    "from wordcloud import WordCloud\n",
    "from konlpy.corpus import kolaw\n",
    "c=kolaw.open('constitution.txt').read()\n",
    "print(c[:100])"
   ]
  },
  {
   "cell_type": "code",
   "execution_count": 62,
   "metadata": {},
   "outputs": [
    {
     "ename": "NameError",
     "evalue": "name 'WordCloud' is not defined",
     "output_type": "error",
     "traceback": [
      "\u001b[1;31m---------------------------------------------------------------------------\u001b[0m",
      "\u001b[1;31mNameError\u001b[0m                                 Traceback (most recent call last)",
      "\u001b[1;32m<ipython-input-62-c1f27cd25fe5>\u001b[0m in \u001b[0;36m<module>\u001b[1;34m\u001b[0m\n\u001b[1;32m----> 1\u001b[1;33m \u001b[0mw\u001b[0m\u001b[1;33m=\u001b[0m\u001b[0mWordCloud\u001b[0m\u001b[1;33m.\u001b[0m\u001b[0mgenerate\u001b[0m\u001b[1;33m(\u001b[0m\u001b[0mc\u001b[0m\u001b[1;33m)\u001b[0m\u001b[1;33m\u001b[0m\u001b[1;33m\u001b[0m\u001b[0m\n\u001b[0m",
      "\u001b[1;31mNameError\u001b[0m: name 'WordCloud' is not defined"
     ]
    }
   ],
   "source": [
    "w=WordCloud().generate(c)"
   ]
  },
  {
   "cell_type": "code",
   "execution_count": 71,
   "metadata": {},
   "outputs": [
    {
     "ename": "NameError",
     "evalue": "name 'w' is not defined",
     "output_type": "error",
     "traceback": [
      "\u001b[1;31m---------------------------------------------------------------------------\u001b[0m",
      "\u001b[1;31mNameError\u001b[0m                                 Traceback (most recent call last)",
      "\u001b[1;32m<ipython-input-71-b91c0c9d36c0>\u001b[0m in \u001b[0;36m<module>\u001b[1;34m\u001b[0m\n\u001b[1;32m----> 1\u001b[1;33m \u001b[0mw\u001b[0m\u001b[1;33m.\u001b[0m\u001b[0mwords_\u001b[0m\u001b[1;33m\u001b[0m\u001b[1;33m\u001b[0m\u001b[0m\n\u001b[0m\u001b[0;32m      2\u001b[0m \u001b[0mprint\u001b[0m\u001b[1;33m(\u001b[0m\u001b[0mw\u001b[0m\u001b[1;33m)\u001b[0m\u001b[1;33m\u001b[0m\u001b[1;33m\u001b[0m\u001b[0m\n",
      "\u001b[1;31mNameError\u001b[0m: name 'w' is not defined"
     ]
    }
   ],
   "source": [
    "w.words_\n",
    "print(w)"
   ]
  },
  {
   "cell_type": "code",
   "execution_count": 72,
   "metadata": {},
   "outputs": [
    {
     "ename": "NameError",
     "evalue": "name 'w' is not defined",
     "output_type": "error",
     "traceback": [
      "\u001b[1;31m---------------------------------------------------------------------------\u001b[0m",
      "\u001b[1;31mNameError\u001b[0m                                 Traceback (most recent call last)",
      "\u001b[1;32m<ipython-input-72-e7ab970adc83>\u001b[0m in \u001b[0;36m<module>\u001b[1;34m\u001b[0m\n\u001b[1;32m----> 1\u001b[1;33m \u001b[0mplt\u001b[0m\u001b[1;33m.\u001b[0m\u001b[0mimshow\u001b[0m\u001b[1;33m(\u001b[0m\u001b[0mw\u001b[0m\u001b[1;33m,\u001b[0m \u001b[0minterpolation\u001b[0m\u001b[1;33m=\u001b[0m\u001b[1;34m'bilinear'\u001b[0m\u001b[1;33m)\u001b[0m\u001b[1;33m\u001b[0m\u001b[1;33m\u001b[0m\u001b[0m\n\u001b[0m",
      "\u001b[1;31mNameError\u001b[0m: name 'w' is not defined"
     ]
    }
   ],
   "source": [
    "plt.imshow(w, interpolation='bilinear')"
   ]
  },
  {
   "cell_type": "code",
   "execution_count": null,
   "metadata": {},
   "outputs": [],
   "source": []
  }
 ],
 "metadata": {
  "kernelspec": {
   "display_name": "Python 3",
   "language": "python",
   "name": "python3"
  },
  "language_info": {
   "codemirror_mode": {
    "name": "ipython",
    "version": 3
   },
   "file_extension": ".py",
   "mimetype": "text/x-python",
   "name": "python",
   "nbconvert_exporter": "python",
   "pygments_lexer": "ipython3",
   "version": "3.7.3"
  }
 },
 "nbformat": 4,
 "nbformat_minor": 2
}
