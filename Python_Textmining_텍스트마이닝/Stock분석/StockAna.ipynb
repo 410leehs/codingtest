{
 "cells": [
  {
   "cell_type": "code",
   "execution_count": 1,
   "metadata": {},
   "outputs": [],
   "source": [
    "import sqlite3\n",
    "import matplotlib.pyplot as plt\n",
    "import numpy as np\n",
    "import seaborn as sns \n",
    "dbname='paxstock.db'\n",
    "#fontprop=fn.FontProperties"
   ]
  },
  {
   "cell_type": "code",
   "execution_count": 2,
   "metadata": {},
   "outputs": [],
   "source": [
    "\n",
    "def seldb():\n",
    "    with sqlite3.connect(dbname) as conn:\n",
    "        cur=conn.cursor() #커서는 하나씩 일을해나가는것\n",
    "        sql=\"\"\"\n",
    "        select \n",
    "        IDX,EPRICE,SPRICE,HPRICE,LPRICE,UDCODE,UDOWN,UDRATE,TRQTY\n",
    "        from kospi \n",
    "        order by IDX\n",
    "        \"\"\"\n",
    "        data=cur.execute(sql).fetchall()\n",
    "        xdata=[]\n",
    "        Ey=[]\n",
    "        Sy=[]\n",
    "        Hy=[]\n",
    "        Ly=[]\n",
    "        #UCODE,UDOWN\n",
    "        Ury=[]\n",
    "        Qty=[]\n",
    "        i=0\n",
    "        for d in data:\n",
    "            \n",
    "            xdata.append(i)\n",
    "            Ey.append(d[1])\n",
    "            Sy.append(d[2])\n",
    "            Hy.append(d[3])\n",
    "            Ly.append(d[4])\n",
    "            Ury.append(d[7])\n",
    "            Qty.append(d[8])\n",
    "            i+=1\n",
    "            #print(d,end=\"\\n\")\n",
    "            \n",
    "            conn.commit() #최종확인\n",
    "            cur.close()\n",
    "            #print('total :',i)\n",
    "        return (xdata,Ey,Sy,Hy,Ly,Ury,Qty)"
   ]
  },
  {
   "cell_type": "code",
   "execution_count": 3,
   "metadata": {},
   "outputs": [],
   "source": [
    "def baseline(data,seed,day):\n",
    "    if (seed- day)<0:\n",
    "        st=0\n",
    "    else:\n",
    "        st=seed-day\n",
    "        \n",
    "    da=data[(seed-day):seed]\n",
    "    res=np.average(da)\n",
    "    #print(res)\n",
    "    return res\n",
    "    "
   ]
  },
  {
   "cell_type": "code",
   "execution_count": 4,
   "metadata": {},
   "outputs": [
    {
     "data": {
      "text/plain": [
       "4.0"
      ]
     },
     "execution_count": 4,
     "metadata": {},
     "output_type": "execute_result"
    }
   ],
   "source": [
    "baseline([1,2,3,4,5],5,3)"
   ]
  },
  {
   "cell_type": "code",
   "execution_count": 5,
   "metadata": {},
   "outputs": [],
   "source": [
    "def checkcross(mdata):\n",
    "    i=1\n",
    "    lm=len(mdata)\n",
    "    presign=1\n",
    "    result=[]\n",
    "    for m in mdata:\n",
    "        #음수에서 양수로 바뀌면 데드크로스, 그 반대면 골든 크로스\n",
    "        if (m==0):\n",
    "            if(i>0):\n",
    "                presign=mdata[i-1]/abs(mdata[i-1])\n",
    "                #+1-1=0 //+1-(-1)=2 // (-1)-1=-2 //(-1)-(-1)=0\n",
    "            else:\n",
    "                presign=1\n",
    "\n",
    "            if(i<lm):\n",
    "                nextsign=mdata[i+1]/abs(mdata[i+1])\n",
    "            else:\n",
    "                nextsign=1\n",
    "            crossresult=presign-nextsign\n",
    "            if(crossresult==2):\n",
    "                result.append((i+1),-1)\n",
    "            elif(crossresult==-2):\n",
    "                result.append((i+1),1)\n",
    "                \n",
    "        i+=1\n",
    "    return result\n",
    "            \n",
    "        "
   ]
  },
  {
   "cell_type": "code",
   "execution_count": null,
   "metadata": {},
   "outputs": [],
   "source": []
  },
  {
   "cell_type": "code",
   "execution_count": null,
   "metadata": {},
   "outputs": [],
   "source": []
  },
  {
   "cell_type": "code",
   "execution_count": 6,
   "metadata": {},
   "outputs": [],
   "source": [
    "def movinga(data,day):\n",
    "    i=0\n",
    "    res=[]\n",
    "    for d in data:\n",
    "        i+=1\n",
    "        \n",
    "        \n",
    "        res.append(baseline(data,i,day))\n",
    "    res=np.array(res)\n",
    "    return res"
   ]
  },
  {
   "cell_type": "code",
   "execution_count": null,
   "metadata": {},
   "outputs": [],
   "source": []
  },
  {
   "cell_type": "code",
   "execution_count": null,
   "metadata": {},
   "outputs": [],
   "source": []
  },
  {
   "cell_type": "code",
   "execution_count": 7,
   "metadata": {},
   "outputs": [],
   "source": [
    "def showit():\n",
    "    data=seldb()\n",
    "    data=np.array(data)\n",
    "    no=200\n",
    "    \n",
    "    x=data[0][:no]\n",
    "    Ey=data[1][:no]\n",
    "    Sy=data[2][:no]\n",
    "    Hy=data[3][:no]\n",
    "    Ly=data[4][:no]\n",
    "    #UCODE,UDOWN\n",
    "    Ury=data[5][:no]\n",
    "    Qty=data[6][:no]\n",
    "    Zeros=np.zeros(no)\n",
    "    \n",
    "    My10=movinga(Ey,10)\n",
    "    My20=movinga(Ey,20)\n",
    "    mcross=My10-My20\n",
    "    Cpoint=checkcross(mcross)\n",
    "    print(Cpoint)\n",
    "    \n",
    "    \n",
    "    plt.title('이동평균선')\n",
    "    plt.plot(x,Ey,'r--',label=\"End\")\n",
    "    plt.plot(x,My10,'g',label=\"My10\")\n",
    "    plt.plot(x,My20,'b',label=\"My20\")\n",
    "    #plt.plot(x,Hy,'y*',label=\"High\")\n",
    "    #plt.plot(x,Ly,'b^',label=\"Low\")\n",
    "    \n",
    "    \n",
    "    plt.legend()\n",
    "    plt.show()\n",
    "    plt.title('크로스그래프')\n",
    "    plt.legend\n",
    "    plt.plot(x,mcross,'y',label=\"mcross\")\n",
    "    plt.plot(x,Zeros,'k',label=\"Zeors\")\n",
    "    #print(len(data))\n",
    "    "
   ]
  },
  {
   "cell_type": "markdown",
   "metadata": {},
   "source": [
    "def seltitle():\n",
    "    fig=plt.figure(figsize=(30,60))\n",
    "    with sqlite3.connect(dbname) as conn:\n",
    "        cur=conn.cursor() #커서는 하나씩 일을해나가는것\n",
    "        sql= 'select TIDX, TNAME from titles order by TIDX'\n",
    "        \n",
    "        data=cur.execute(sql).fetchall()\n",
    "        i=0\n",
    "        for d in data:\n",
    "            gdata=seldb(d[0])\n",
    "            if (len(gdata[0])>1):\n",
    "                #print(\"*\"*20)\n",
    "                #print(d[1])\n",
    "                #print(\"*\"*20)\n",
    "                #print(d,end=\"\\n\")\n",
    "                pos=divmod(i,3)\n",
    "                i+=1\n",
    "                plt.subplot(3,10,i)\n",
    "                x_=gdata[0]\n",
    "                y_=gdata[1]\n",
    "                #y=wx_+b\n",
    "                A=np.vstack([x_,np.ones(len(x_))]).T\n",
    "                w,b = np.linalg.listsq(A,y_)[0]\n",
    "                x_=np.ndarray(gdata[0])\n",
    "                plt.plot(x_,y_,'ro', label=\"DATA\")\n",
    "                plt.plot(x_,w*x_+b,'b', lacel=\"FIT\")\n",
    "                plt.legend()\n",
    "                \n",
    "                plt.title(d[1])\n",
    "        conn.commit() #최종확인\n",
    "        cur.close()\n",
    "        return (xdata,ydata)"
   ]
  },
  {
   "cell_type": "code",
   "execution_count": 8,
   "metadata": {},
   "outputs": [
    {
     "name": "stderr",
     "output_type": "stream",
     "text": [
      "C:\\ProgramData\\Anaconda3\\lib\\site-packages\\numpy\\lib\\function_base.py:392: RuntimeWarning: Mean of empty slice.\n",
      "  avg = a.mean(axis)\n",
      "C:\\ProgramData\\Anaconda3\\lib\\site-packages\\numpy\\core\\_methods.py:85: RuntimeWarning: invalid value encountered in double_scalars\n",
      "  ret = ret.dtype.type(ret / rcount)\n"
     ]
    },
    {
     "name": "stdout",
     "output_type": "stream",
     "text": [
      "[]\n"
     ]
    },
    {
     "data": {
      "image/png": "[encoded data removed]",
      "text/plain": [
       "<Figure size 432x288 with 1 Axes>"
      ]
     },
     "metadata": {
      "needs_background": "light"
     },
     "output_type": "display_data"
    },
    {
     "data": {
      "image/png": "[encoded data removed]",
      "text/plain": [
       "<Figure size 432x288 with 1 Axes>"
      ]
     },
     "metadata": {
      "needs_background": "light"
     },
     "output_type": "display_data"
    }
   ],
   "source": [
    "showit()"
   ]
  },
  {
   "cell_type": "markdown",
   "metadata": {},
   "source": [
    " "
   ]
  },
  {
   "cell_type": "code",
   "execution_count": null,
   "metadata": {},
   "outputs": [],
   "source": []
  }
 ],
 "metadata": {
  "kernelspec": {
   "display_name": "Python 3",
   "language": "python",
   "name": "python3"
  },
  "language_info": {
   "codemirror_mode": {
    "name": "ipython",
    "version": 3
   },
   "file_extension": ".py",
   "mimetype": "text/x-python",
   "name": "python",
   "nbconvert_exporter": "python",
   "pygments_lexer": "ipython3",
   "version": "3.7.3"
  }
 },
 "nbformat": 4,
 "nbformat_minor": 2
}
