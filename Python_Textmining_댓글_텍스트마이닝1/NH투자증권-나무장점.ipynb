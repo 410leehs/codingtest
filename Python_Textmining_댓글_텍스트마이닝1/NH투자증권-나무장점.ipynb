{
 "cells": [
  {
   "cell_type": "code",
   "execution_count": 1,
   "metadata": {},
   "outputs": [],
   "source": [
    "import requests\n",
    "from bs4 import BeautifulSoup\n",
    "import pandas as pd"
   ]
  },
  {
   "cell_type": "markdown",
   "metadata": {},
   "source": [
    "###requests는 파이썬에서 http 요청을 보낼 때 쓸 라이브러리, BeautifulSoup는 html에서 정보를 간단하게 빼오기 위해 사용할 라이브러리"
   ]
  },
  {
   "cell_type": "code",
   "execution_count": 2,
   "metadata": {},
   "outputs": [
    {
     "data": {
      "text/plain": [
       "\n",
       "<!--  앱 평가 리스트 시작 -->\n",
       "<div class=\"subra\" style=\"border-top:1px solid #ccc;\">\n",
       "<ul>\n",
       "<li>\n",
       "<div class=\"photo\">\n",
       "<img alt=\"Sang-Min *** 프로필 이미지\" src=\"http://img.gevolution.co.kr/common/icon/icon_google_50x50.gif\"/>\n",
       "</div>\n",
       "<div class=\"cont_wrap\">\n",
       "<p class=\"user\" name=\"products\">\n",
       "<span style=\"font-size:12px\">Sang-Min ***</span> <span class=\"level_ico score0\">5</span>\n",
       "<span class=\"time\">Google play Review</span>\n",
       "</p>\n",
       "<p class=\"txt\">\n",
       "\t\t\t\t\t타사에 비해 좋음. 종목추천, 회사 정보등. 종목토론방도 네이버, 다음까지 다 볼수 있습니다. UI의 디자인이 깨끗하고 쉽게 볼수 있게 구성되어 있습니다. 타사앱은 잦은 오류가 있어서 나무앱으로 갈아탈려고 생각중입니다.\n",
       "\t\t\t\t</p>\n",
       "</div>\n",
       "</li>\n",
       "<li>\n",
       "<div class=\"photo\">\n",
       "<img alt=\"윤 ** 프로필 이미지\" src=\"http://img.gevolution.co.kr/common/icon/icon_google_50x50.gif\"/>\n",
       "</div>\n",
       "<div class=\"cont_wrap\">\n",
       "<p class=\"user\" name=\"products\">\n",
       "<span style=\"font-size:12px\">윤 **</span> <span class=\"level_ico score0\">5</span>\n",
       "<span class=\"time\">Google play Review</span>\n",
       "</p>\n",
       "<p class=\"txt\">\n",
       "\t\t\t\t\t이번에 새로생긴 \"차트패턴비교\"에 주가이동평균선 수정을 해놓으면 설정변경이 1회성으로만 반영이 되고 말아버립니다. 차트패턴비교 볼 때마다 재설정해야해요. 고쳐주세요~~\n",
       "\t\t\t\t</p>\n",
       "</div>\n",
       "</li>\n",
       "<li>\n",
       "<div class=\"photo\">\n",
       "<img alt=\"티티** 프로필 이미지\" src=\"http://img.gevolution.co.kr/common/icon/icon_google_50x50.gif\"/>\n",
       "</div>\n",
       "<div class=\"cont_wrap\">\n",
       "<p class=\"user\" name=\"products\">\n",
       "<span style=\"font-size:12px\">티티**</span> <span class=\"level_ico score0\">5</span>\n",
       "<span class=\"time\">Google play Review</span>\n",
       "</p>\n",
       "<p class=\"txt\">\n",
       "\t\t\t\t\t여기저기 증권어플 많이써봤는데 수수료때문에 나무로 넘어왔는데 너무좋습니다 빠릿빠릿 하고 화면배치도 좋고 수수료도싸고 좋습니다 보강좀 부탁드리고싶은게있는데 잔고에 일괄매도가없네요 이것좀 만들어주세요 그럼 더할나위없을듯 합니다\n",
       "\t\t\t\t</p>\n",
       "</div>\n",
       "</li>\n",
       "<li>\n",
       "<div class=\"photo\">\n",
       "<img alt=\"상승** 프로필 이미지\" src=\"http://img.gevolution.co.kr/common/icon/icon_google_50x50.gif\"/>\n",
       "</div>\n",
       "<div class=\"cont_wrap\">\n",
       "<p class=\"user\" name=\"products\">\n",
       "<span style=\"font-size:12px\">상승**</span> <span class=\"level_ico score0\">5</span>\n",
       "<span class=\"time\">Google play Review</span>\n",
       "</p>\n",
       "<p class=\"txt\">\n",
       "\t\t\t\t\t어플을 평소에 잘 사용하고 있습니다. 좋은 어플 만들어 주셔서 우선 감사합니다. 그런데 한가지 부탁드릴 사항이 있는데요. 주문금액 입력할때 오른쪽에 편하게 금액을 입력하기 위해  백만 십만 만  이렇게 탭을 두어 편하기는 한데요.  천만 도 부탁드립니다. 매번 천만원 세팅하기가 번거롭네요. 또는 그부분이 고객에 따라 커스터 마이징이 가능 했으면 해요.\n",
       "\t\t\t\t</p>\n",
       "</div>\n",
       "</li>\n",
       "<li>\n",
       "<div class=\"photo\">\n",
       "<img alt=\"Dexte*** 프로필 이미지\" src=\"http://img.gevolution.co.kr/common/icon/icon_google_50x50.gif\"/>\n",
       "</div>\n",
       "<div class=\"cont_wrap\">\n",
       "<p class=\"user\" name=\"products\">\n",
       "<span style=\"font-size:12px\">Dexte***</span> <span class=\"level_ico score0\">5</span>\n",
       "<span class=\"time\">Google play Review</span>\n",
       "</p>\n",
       "<p class=\"txt\">\n",
       "\t\t\t\t\t안녕하세요 사용자 친화적으로 만든 앱 잘 쓰고 있습니다. 한 가지 건의사항이 있는데 종목별 수급현황을 알 수 있는 기능이 있으면 좋겠습니다. 타 플랫폼의 경우  종목투자자잠정  기능이 있습니다. 정확한 수치제공은 어려울지라도 추정치를 실시간으로 제공한다면 좋지않을까요\"\" 좋은 하루 보내세요~\n",
       "\t\t\t\t</p>\n",
       "</div>\n",
       "</li>\n",
       "<li>\n",
       "<div class=\"photo\">\n",
       "<img alt=\"*** *** 프로필 이미지\" src=\"http://img.gevolution.co.kr/common/icon/icon_google_50x50.gif\"/>\n",
       "</div>\n",
       "<div class=\"cont_wrap\">\n",
       "<p class=\"user\" name=\"products\">\n",
       "<span style=\"font-size:12px\">*** ***</span> <span class=\"level_ico score0\">5</span>\n",
       "<span class=\"time\">Google play Review</span>\n",
       "</p>\n",
       "<p class=\"txt\">\n",
       "\t\t\t\t\t위젯 글자크기 조절 가능하게 좀 해주세요. 글자가 부담스러울정도로 너무 커요 \"\";;;\n",
       "\t\t\t\t</p>\n",
       "</div>\n",
       "</li>\n",
       "<li>\n",
       "<div class=\"photo\">\n",
       "<img alt=\"김정* 프로필 이미지\" src=\"http://img.gevolution.co.kr/common/icon/icon_google_50x50.gif\"/>\n",
       "</div>\n",
       "<div class=\"cont_wrap\">\n",
       "<p class=\"user\" name=\"products\">\n",
       "<span style=\"font-size:12px\">김정*</span> <span class=\"level_ico score0\">5</span>\n",
       "<span class=\"time\">Google play Review</span>\n",
       "</p>\n",
       "<p class=\"txt\">\n",
       "\t\t\t\t\tㅠㅜ원래 로그인하면 내잔고하고 수익금 예수금 나오는데 계속안뜨고 코스피,코스닥 상하율만 나오네요ㅠㅠ너무좋게사용하는데 이거어떡해야 다시뜨죠?\n",
       "\t\t\t\t</p>\n",
       "</div>\n",
       "</li>\n",
       "<li>\n",
       "<div class=\"photo\">\n",
       "<img alt=\"윤형* 프로필 이미지\" src=\"http://img.gevolution.co.kr/common/icon/icon_google_50x50.gif\"/>\n",
       "</div>\n",
       "<div class=\"cont_wrap\">\n",
       "<p class=\"user\" name=\"products\">\n",
       "<span style=\"font-size:12px\">윤형*</span> <span class=\"level_ico score0\">5</span>\n",
       "<span class=\"time\">Google play Review</span>\n",
       "</p>\n",
       "<p class=\"txt\">\n",
       "\t\t\t\t\t초보자가 정보를 쉽게 찾고, 한눈에 볼수있게 쉽게 구현된것을 느꼈습니다. 한가지 투자고수의 선택 매수를 클릭시 종목에 매도 순위가 나열되고 반대로 매도 순위 클릭시 매수 순위가 나와 순위로 보는게 맞는지 좀 헷갈림니다. 그리고 관심종목에서 꾸욱 누를시 삭제할수 있는 기능을 추가하면 어떨지요?\n",
       "\t\t\t\t</p>\n",
       "</div>\n",
       "</li>\n",
       "<li>\n",
       "<div class=\"photo\">\n",
       "<img alt=\"김주* 프로필 이미지\" src=\"http://img.gevolution.co.kr/common/icon/icon_google_50x50.gif\"/>\n",
       "</div>\n",
       "<div class=\"cont_wrap\">\n",
       "<p class=\"user\" name=\"products\">\n",
       "<span style=\"font-size:12px\">김주*</span> <span class=\"level_ico score0\">5</span>\n",
       "<span class=\"time\">Google play Review</span>\n",
       "</p>\n",
       "<p class=\"txt\">\n",
       "\t\t\t\t\t매매동향에서 단위를 적으면 좋을것 같습니다. 외국인 매매동향이 가격인지 주식 수인지 모르겠네요.\n",
       "\t\t\t\t</p>\n",
       "</div>\n",
       "</li>\n",
       "<li>\n",
       "<div class=\"photo\">\n",
       "<img alt=\"원재* 프로필 이미지\" src=\"http://img.gevolution.co.kr/common/icon/icon_google_50x50.gif\"/>\n",
       "</div>\n",
       "<div class=\"cont_wrap\">\n",
       "<p class=\"user\" name=\"products\">\n",
       "<span style=\"font-size:12px\">원재*</span> <span class=\"level_ico score0\">5</span>\n",
       "<span class=\"time\">Google play Review</span>\n",
       "</p>\n",
       "<p class=\"txt\">\n",
       "\t\t\t\t\t계좌를 만들때 신분증을 무조건 사진으로 찍어야되는 이유가 궁금합니다. 사진을 찍을수없으면 어떻게 해야하나요?\n",
       "\t\t\t\t</p>\n",
       "</div>\n",
       "</li>\n",
       "</ul>\n",
       "<div class=\"pager\">\n",
       "<!-- span class=\"blind\">현재 페이지</span>1 / <span class=\"blind\">총 페이지 수</span>7 -->\n",
       "<div class=\"paginate\">\n",
       "<span>&lt; 이전</span> <strong>1</strong> <a href=\"javascript:void(0);\" onclick='getGameLayerNotLogin(\"lyRatingList\",\"rate_list\",\"svc=160193&amp;m=5&amp;p=2\");'>2</a> <a href=\"javascript:void(0);\" onclick='getGameLayerNotLogin(\"lyRatingList\",\"rate_list\",\"svc=160193&amp;m=5&amp;p=3\");'>3</a> <a href=\"javascript:void(0);\" onclick='getGameLayerNotLogin(\"lyRatingList\",\"rate_list\",\"svc=160193&amp;m=5&amp;p=4\");'>4</a> <a href=\"javascript:void(0);\" onclick='getGameLayerNotLogin(\"lyRatingList\",\"rate_list\",\"svc=160193&amp;m=5&amp;p=5\");'>5</a> <a href=\"javascript:void(0);\" onclick='getGameLayerNotLogin(\"lyRatingList\",\"rate_list\",\"svc=160193&amp;m=5&amp;p=6\");'>6</a> <a href=\"javascript:void(0);\" onclick='getGameLayerNotLogin(\"lyRatingList\",\"rate_list\",\"svc=160193&amp;m=5&amp;p=7\");'>7</a> <span>다음 &gt;</span>\n",
       "</div>\n",
       "</div>\n",
       "</div>\n",
       "<script type=\"text/javascript\">\n",
       "  $(function () {\n",
       "\t$(\"span[name=btn_rating]\").removeClass(\"b_dor10\").addClass(\"b_dgr10\");\n",
       "\t$(\"#btn_rating\"+5).removeClass(\"b_dgr10\").addClass(\"b_dor10\");\n",
       "  });\n",
       "</script>"
      ]
     },
     "execution_count": 2,
     "metadata": {},
     "output_type": "execute_result"
    }
   ],
   "source": [
    "test_url = \"http://www.gevolution.co.kr/game/get_rate_list.asp?svc=160193&m=5&p=1\"\n",
    "resp = requests.get(test_url)\n",
    "html = BeautifulSoup(resp.content, 'html.parser')\n",
    "html"
   ]
  },
  {
   "cell_type": "code",
   "execution_count": 3,
   "metadata": {},
   "outputs": [
    {
     "data": {
      "text/plain": [
       "<li>\n",
       "<div class=\"photo\">\n",
       "<img alt=\"Sang-Min *** 프로필 이미지\" src=\"http://img.gevolution.co.kr/common/icon/icon_google_50x50.gif\"/>\n",
       "</div>\n",
       "<div class=\"cont_wrap\">\n",
       "<p class=\"user\" name=\"products\">\n",
       "<span style=\"font-size:12px\">Sang-Min ***</span> <span class=\"level_ico score0\">5</span>\n",
       "<span class=\"time\">Google play Review</span>\n",
       "</p>\n",
       "<p class=\"txt\">\n",
       "\t\t\t\t\t타사에 비해 좋음. 종목추천, 회사 정보등. 종목토론방도 네이버, 다음까지 다 볼수 있습니다. UI의 디자인이 깨끗하고 쉽게 볼수 있게 구성되어 있습니다. 타사앱은 잦은 오류가 있어서 나무앱으로 갈아탈려고 생각중입니다.\n",
       "\t\t\t\t</p>\n",
       "</div>\n",
       "</li>"
      ]
     },
     "execution_count": 3,
     "metadata": {},
     "output_type": "execute_result"
    }
   ],
   "source": [
    "score_result = html.find('div', {'class': 'subra'})\n",
    "lis = score_result.findAll('li')\n",
    "lis[0]"
   ]
  },
  {
   "cell_type": "code",
   "execution_count": 4,
   "metadata": {},
   "outputs": [
    {
     "data": {
      "text/plain": [
       "'\\r\\n\\t\\t\\t\\t\\t타사에 비해 좋음. 종목추천, 회사 정보등. 종목토론방도 네이버, 다음까지 다 볼수 있습니다. UI의 디자인이 깨끗하고 쉽게 볼수 있게 구성되어 있습니다. 타사앱은 잦은 오류가 있어서 나무앱으로 갈아탈려고 생각중입니다.\\r\\n\\t\\t\\t\\t'"
      ]
     },
     "execution_count": 4,
     "metadata": {},
     "output_type": "execute_result"
    }
   ],
   "source": [
    "review_text = lis[0].findAll('p')[1].getText()\n",
    "review_text\n"
   ]
  },
  {
   "cell_type": "code",
   "execution_count": 5,
   "metadata": {},
   "outputs": [
    {
     "data": {
      "text/plain": [
       "'5'"
      ]
     },
     "execution_count": 5,
     "metadata": {},
     "output_type": "execute_result"
    }
   ],
   "source": [
    "review_score=lis[0].find_all('span')[1].getText()\n",
    "review_score"
   ]
  },
  {
   "cell_type": "code",
   "execution_count": 6,
   "metadata": {},
   "outputs": [
    {
     "data": {
      "text/plain": [
       "'Sang-Min ***'"
      ]
     },
     "execution_count": 6,
     "metadata": {},
     "output_type": "execute_result"
    }
   ],
   "source": [
    "customer=lis[0].find_all('span')[0].getText()\n",
    "customer"
   ]
  },
  {
   "cell_type": "code",
   "execution_count": 7,
   "metadata": {},
   "outputs": [],
   "source": [
    "test_url1 = \"http://www.gevolution.co.kr/game/get_rate_list.asp?svc=160193&m=5&p=1\"\n",
    "def get_data(url):#1페이지를 크롤링하는 메소드\n",
    "    temp_list=[]\n",
    "    resp = requests.get(url)\n",
    "    html = BeautifulSoup(resp.content, 'html.parser')\n",
    "    score_result = html.find('div', {'class': 'subra'})\n",
    "    lis = score_result.findAll('li')\n",
    "    for li in lis:\n",
    "        review_text = li.find_all('p')[1].getText()\n",
    "        review_score=li.find_all('span')[1].getText()\n",
    "        customer=li.find_all('span')[0].getText()\n",
    "        temp_list.append([customer,review_text,review_score])\n",
    "    raw_df=pd.DataFrame(data=temp_list,columns=['Customer','Review','Score'])\n",
    "    return raw_df"
   ]
  },
  {
   "cell_type": "code",
   "execution_count": 24,
   "metadata": {},
   "outputs": [],
   "source": [
    "test_url2 = \"http://www.gevolution.co.kr/game/get_rate_list.asp?svc=160193&m=5&p=2\"\n",
    "test_url3 = \"http://www.gevolution.co.kr/game/get_rate_list.asp?svc=160193&m=5&p=3\"\n",
    "test_url4 = \"http://www.gevolution.co.kr/game/get_rate_list.asp?svc=160193&m=5&p=4\"\n",
    "test_url5 = \"http://www.gevolution.co.kr/game/get_rate_list.asp?svc=160193&m=5&p=5\"\n",
    "test_url6 = \"http://www.gevolution.co.kr/game/get_rate_list.asp?svc=160193&m=5&p=6\"\n"
   ]
  },
  {
   "cell_type": "code",
   "execution_count": 25,
   "metadata": {},
   "outputs": [],
   "source": [
    "a=get_data(test_url1)\n",
    "b=get_data(test_url2)\n",
    "c=get_data(test_url3)\n",
    "d=get_data(test_url4)\n",
    "e=get_data(test_url5)\n",
    "f=get_data(test_url6)"
   ]
  },
  {
   "cell_type": "code",
   "execution_count": 10,
   "metadata": {},
   "outputs": [
    {
     "name": "stdout",
     "output_type": "stream",
     "text": [
      "<class 'pandas.core.frame.DataFrame'>\n"
     ]
    }
   ],
   "source": [
    "print(type(a))"
   ]
  },
  {
   "cell_type": "code",
   "execution_count": 11,
   "metadata": {},
   "outputs": [
    {
     "name": "stdout",
     "output_type": "stream",
     "text": [
      "<class 'pandas.core.frame.DataFrame'>\n"
     ]
    }
   ],
   "source": [
    "print(type(b))"
   ]
  },
  {
   "cell_type": "code",
   "execution_count": 12,
   "metadata": {},
   "outputs": [
    {
     "data": {
      "text/html": [
       "<div>\n",
       "<style scoped>\n",
       "    .dataframe tbody tr th:only-of-type {\n",
       "        vertical-align: middle;\n",
       "    }\n",
       "\n",
       "    .dataframe tbody tr th {\n",
       "        vertical-align: top;\n",
       "    }\n",
       "\n",
       "    .dataframe thead th {\n",
       "        text-align: right;\n",
       "    }\n",
       "</style>\n",
       "<table border=\"1\" class=\"dataframe\">\n",
       "  <thead>\n",
       "    <tr style=\"text-align: right;\">\n",
       "      <th></th>\n",
       "      <th>Customer</th>\n",
       "      <th>Review</th>\n",
       "      <th>Score</th>\n",
       "    </tr>\n",
       "  </thead>\n",
       "  <tbody>\n",
       "    <tr>\n",
       "      <th>0</th>\n",
       "      <td>Sang-Min ***</td>\n",
       "      <td>\\r\\n\\t\\t\\t\\t\\t타사에 비해 좋음. 종목추천, 회사 정보등. 종목토론방도 ...</td>\n",
       "      <td>5</td>\n",
       "    </tr>\n",
       "    <tr>\n",
       "      <th>1</th>\n",
       "      <td>윤 **</td>\n",
       "      <td>\\r\\n\\t\\t\\t\\t\\t이번에 새로생긴 \"차트패턴비교\"에 주가이동평균선 수정을 해...</td>\n",
       "      <td>5</td>\n",
       "    </tr>\n",
       "    <tr>\n",
       "      <th>2</th>\n",
       "      <td>티티**</td>\n",
       "      <td>\\r\\n\\t\\t\\t\\t\\t여기저기 증권어플 많이써봤는데 수수료때문에 나무로 넘어왔는...</td>\n",
       "      <td>5</td>\n",
       "    </tr>\n",
       "    <tr>\n",
       "      <th>3</th>\n",
       "      <td>상승**</td>\n",
       "      <td>\\r\\n\\t\\t\\t\\t\\t어플을 평소에 잘 사용하고 있습니다. 좋은 어플 만들어 주...</td>\n",
       "      <td>5</td>\n",
       "    </tr>\n",
       "    <tr>\n",
       "      <th>4</th>\n",
       "      <td>Dexte***</td>\n",
       "      <td>\\r\\n\\t\\t\\t\\t\\t안녕하세요 사용자 친화적으로 만든 앱 잘 쓰고 있습니다. ...</td>\n",
       "      <td>5</td>\n",
       "    </tr>\n",
       "    <tr>\n",
       "      <th>5</th>\n",
       "      <td>*** ***</td>\n",
       "      <td>\\r\\n\\t\\t\\t\\t\\t위젯 글자크기 조절 가능하게 좀 해주세요. 글자가 부담스러...</td>\n",
       "      <td>5</td>\n",
       "    </tr>\n",
       "    <tr>\n",
       "      <th>6</th>\n",
       "      <td>김정*</td>\n",
       "      <td>\\r\\n\\t\\t\\t\\t\\tㅠㅜ원래 로그인하면 내잔고하고 수익금 예수금 나오는데 계속...</td>\n",
       "      <td>5</td>\n",
       "    </tr>\n",
       "    <tr>\n",
       "      <th>7</th>\n",
       "      <td>윤형*</td>\n",
       "      <td>\\r\\n\\t\\t\\t\\t\\t초보자가 정보를 쉽게 찾고, 한눈에 볼수있게 쉽게 구현된것...</td>\n",
       "      <td>5</td>\n",
       "    </tr>\n",
       "    <tr>\n",
       "      <th>8</th>\n",
       "      <td>김주*</td>\n",
       "      <td>\\r\\n\\t\\t\\t\\t\\t매매동향에서 단위를 적으면 좋을것 같습니다. 외국인 매매동...</td>\n",
       "      <td>5</td>\n",
       "    </tr>\n",
       "    <tr>\n",
       "      <th>9</th>\n",
       "      <td>원재*</td>\n",
       "      <td>\\r\\n\\t\\t\\t\\t\\t계좌를 만들때 신분증을 무조건 사진으로 찍어야되는 이유가 ...</td>\n",
       "      <td>5</td>\n",
       "    </tr>\n",
       "  </tbody>\n",
       "</table>\n",
       "</div>"
      ],
      "text/plain": [
       "       Customer                                             Review Score\n",
       "0  Sang-Min ***  \\r\\n\\t\\t\\t\\t\\t타사에 비해 좋음. 종목추천, 회사 정보등. 종목토론방도 ...     5\n",
       "1          윤 **  \\r\\n\\t\\t\\t\\t\\t이번에 새로생긴 \"차트패턴비교\"에 주가이동평균선 수정을 해...     5\n",
       "2          티티**  \\r\\n\\t\\t\\t\\t\\t여기저기 증권어플 많이써봤는데 수수료때문에 나무로 넘어왔는...     5\n",
       "3          상승**  \\r\\n\\t\\t\\t\\t\\t어플을 평소에 잘 사용하고 있습니다. 좋은 어플 만들어 주...     5\n",
       "4      Dexte***  \\r\\n\\t\\t\\t\\t\\t안녕하세요 사용자 친화적으로 만든 앱 잘 쓰고 있습니다. ...     5\n",
       "5       *** ***  \\r\\n\\t\\t\\t\\t\\t위젯 글자크기 조절 가능하게 좀 해주세요. 글자가 부담스러...     5\n",
       "6           김정*  \\r\\n\\t\\t\\t\\t\\tㅠㅜ원래 로그인하면 내잔고하고 수익금 예수금 나오는데 계속...     5\n",
       "7           윤형*  \\r\\n\\t\\t\\t\\t\\t초보자가 정보를 쉽게 찾고, 한눈에 볼수있게 쉽게 구현된것...     5\n",
       "8           김주*  \\r\\n\\t\\t\\t\\t\\t매매동향에서 단위를 적으면 좋을것 같습니다. 외국인 매매동...     5\n",
       "9           원재*  \\r\\n\\t\\t\\t\\t\\t계좌를 만들때 신분증을 무조건 사진으로 찍어야되는 이유가 ...     5"
      ]
     },
     "execution_count": 12,
     "metadata": {},
     "output_type": "execute_result"
    }
   ],
   "source": [
    "a"
   ]
  },
  {
   "cell_type": "code",
   "execution_count": 13,
   "metadata": {},
   "outputs": [
    {
     "data": {
      "text/html": [
       "<div>\n",
       "<style scoped>\n",
       "    .dataframe tbody tr th:only-of-type {\n",
       "        vertical-align: middle;\n",
       "    }\n",
       "\n",
       "    .dataframe tbody tr th {\n",
       "        vertical-align: top;\n",
       "    }\n",
       "\n",
       "    .dataframe thead th {\n",
       "        text-align: right;\n",
       "    }\n",
       "</style>\n",
       "<table border=\"1\" class=\"dataframe\">\n",
       "  <thead>\n",
       "    <tr style=\"text-align: right;\">\n",
       "      <th></th>\n",
       "      <th>Customer</th>\n",
       "      <th>Review</th>\n",
       "      <th>Score</th>\n",
       "    </tr>\n",
       "  </thead>\n",
       "  <tbody>\n",
       "    <tr>\n",
       "      <th>0</th>\n",
       "      <td>Junyeong ***</td>\n",
       "      <td>\\r\\n\\t\\t\\t\\t\\t어플을 평소에 잘 사용하고 있습니다. 좋은 어플 만들어 주...</td>\n",
       "      <td>5</td>\n",
       "    </tr>\n",
       "    <tr>\n",
       "      <th>1</th>\n",
       "      <td>현승*</td>\n",
       "      <td>\\r\\n\\t\\t\\t\\t\\t다 좋은데 업데이트 되고부터 위젯이 짤립니다 밑에 등락률이...</td>\n",
       "      <td>5</td>\n",
       "    </tr>\n",
       "    <tr>\n",
       "      <th>2</th>\n",
       "      <td>Sang Ho P***</td>\n",
       "      <td>\\r\\n\\t\\t\\t\\t\\t개선되는점도 좋습니다. 매도시 1주당 얼마에 매도 되었는지...</td>\n",
       "      <td>5</td>\n",
       "    </tr>\n",
       "    <tr>\n",
       "      <th>3</th>\n",
       "      <td>김원*</td>\n",
       "      <td>\\r\\n\\t\\t\\t\\t\\t삼성, 하이, 미래, 유안타, 한국, 신한 등 써봤는데 그...</td>\n",
       "      <td>5</td>\n",
       "    </tr>\n",
       "    <tr>\n",
       "      <th>4</th>\n",
       "      <td>K Rob***</td>\n",
       "      <td>\\r\\n\\t\\t\\t\\t\\t뒤로가기버튼을 누르면 처음으로 돌아가지 말고, 이전 창으로...</td>\n",
       "      <td>5</td>\n",
       "    </tr>\n",
       "    <tr>\n",
       "      <th>5</th>\n",
       "      <td>박승*</td>\n",
       "      <td>\\r\\n\\t\\t\\t\\t\\t잘 쓰고 있는데, 갑자기 간편인증번호 인증에 실패했다고 뜹...</td>\n",
       "      <td>5</td>\n",
       "    </tr>\n",
       "    <tr>\n",
       "      <th>6</th>\n",
       "      <td>universe cos***</td>\n",
       "      <td>\\r\\n\\t\\t\\t\\t\\t다양기능 편리 좋아요!~~ 주식 선물 옵션 해외주식 거래까...</td>\n",
       "      <td>5</td>\n",
       "    </tr>\n",
       "    <tr>\n",
       "      <th>7</th>\n",
       "      <td>이준*</td>\n",
       "      <td>\\r\\n\\t\\t\\t\\t\\t접속과 메뉴 이용하기에 편하고 무엇보다 수수료가 저렴하다....</td>\n",
       "      <td>5</td>\n",
       "    </tr>\n",
       "    <tr>\n",
       "      <th>8</th>\n",
       "      <td>DB chan ***</td>\n",
       "      <td>\\r\\n\\t\\t\\t\\t\\t이번업데이트 하고 상승률상위종목 탭이 없어졌는데 이번업뎃 ...</td>\n",
       "      <td>5</td>\n",
       "    </tr>\n",
       "    <tr>\n",
       "      <th>9</th>\n",
       "      <td>서즐겁게***</td>\n",
       "      <td>\\r\\n\\t\\t\\t\\t\\t안녕하십니까. 고객 편의을 위한 보다 낳은 정보 제공을 위...</td>\n",
       "      <td>5</td>\n",
       "    </tr>\n",
       "  </tbody>\n",
       "</table>\n",
       "</div>"
      ],
      "text/plain": [
       "          Customer                                             Review Score\n",
       "0     Junyeong ***  \\r\\n\\t\\t\\t\\t\\t어플을 평소에 잘 사용하고 있습니다. 좋은 어플 만들어 주...     5\n",
       "1              현승*  \\r\\n\\t\\t\\t\\t\\t다 좋은데 업데이트 되고부터 위젯이 짤립니다 밑에 등락률이...     5\n",
       "2     Sang Ho P***  \\r\\n\\t\\t\\t\\t\\t개선되는점도 좋습니다. 매도시 1주당 얼마에 매도 되었는지...     5\n",
       "3              김원*  \\r\\n\\t\\t\\t\\t\\t삼성, 하이, 미래, 유안타, 한국, 신한 등 써봤는데 그...     5\n",
       "4         K Rob***  \\r\\n\\t\\t\\t\\t\\t뒤로가기버튼을 누르면 처음으로 돌아가지 말고, 이전 창으로...     5\n",
       "5              박승*  \\r\\n\\t\\t\\t\\t\\t잘 쓰고 있는데, 갑자기 간편인증번호 인증에 실패했다고 뜹...     5\n",
       "6  universe cos***  \\r\\n\\t\\t\\t\\t\\t다양기능 편리 좋아요!~~ 주식 선물 옵션 해외주식 거래까...     5\n",
       "7              이준*  \\r\\n\\t\\t\\t\\t\\t접속과 메뉴 이용하기에 편하고 무엇보다 수수료가 저렴하다....     5\n",
       "8      DB chan ***  \\r\\n\\t\\t\\t\\t\\t이번업데이트 하고 상승률상위종목 탭이 없어졌는데 이번업뎃 ...     5\n",
       "9          서즐겁게***  \\r\\n\\t\\t\\t\\t\\t안녕하십니까. 고객 편의을 위한 보다 낳은 정보 제공을 위...     5"
      ]
     },
     "execution_count": 13,
     "metadata": {},
     "output_type": "execute_result"
    }
   ],
   "source": [
    "b"
   ]
  },
  {
   "cell_type": "code",
   "execution_count": 33,
   "metadata": {},
   "outputs": [
    {
     "name": "stdout",
     "output_type": "stream",
     "text": [
      "(60, 3)\n"
     ]
    }
   ],
   "source": [
    "x=pd.concat([a,b,c,d,e,f],ignore_index=True)\n",
    "x.head()\n",
    "print(x.shape)"
   ]
  },
  {
   "cell_type": "code",
   "execution_count": 34,
   "metadata": {},
   "outputs": [],
   "source": [
    "test_url = \"http://www.gevolution.co.kr/game/get_rate_list.asp?svc=160193&m=5&p=\"\n",
    "#여러페이지를 크롤링하는 함수\n",
    "def Mycrawl(page):\n",
    "    for i in range(1,page):\n",
    "        if(i==1):\n",
    "            addr=test_url+str(i)\n",
    "            xdata=get_data(addr)\n",
    "            ydata=get_data(addr+str(i+1))\n",
    "            zdata=pd.concat([xdata,ydata])\n",
    "        else:\n",
    "            ydata=get_data(addr+str(i+1))\n",
    "            zdata=pd.concat([zdata,ydata],ignore_index=True)\n",
    "    return zdata\n",
    "        #get_data(addr)[1]\n",
    "        #newtemp_list=a.append(get_data(addr))\n",
    "    #return newtemp_list"
   ]
  },
  {
   "cell_type": "code",
   "execution_count": 22,
   "metadata": {},
   "outputs": [
    {
     "ename": "IndexError",
     "evalue": "list index out of range",
     "output_type": "error",
     "traceback": [
      "\u001b[1;31m---------------------------------------------------------------------------\u001b[0m",
      "\u001b[1;31mIndexError\u001b[0m                                Traceback (most recent call last)",
      "\u001b[1;32m<ipython-input-22-4a8a0f04be63>\u001b[0m in \u001b[0;36m<module>\u001b[1;34m\u001b[0m\n\u001b[1;32m----> 1\u001b[1;33m \u001b[0mMycrawl\u001b[0m\u001b[1;33m(\u001b[0m\u001b[1;36m4\u001b[0m\u001b[1;33m)\u001b[0m\u001b[1;33m\u001b[0m\u001b[1;33m\u001b[0m\u001b[0m\n\u001b[0m",
      "\u001b[1;32m<ipython-input-17-095ff1e46ee1>\u001b[0m in \u001b[0;36mMycrawl\u001b[1;34m(page)\u001b[0m\n\u001b[0;32m      6\u001b[0m             \u001b[0maddr\u001b[0m\u001b[1;33m=\u001b[0m\u001b[0mtest_url\u001b[0m\u001b[1;33m+\u001b[0m\u001b[0mstr\u001b[0m\u001b[1;33m(\u001b[0m\u001b[0mi\u001b[0m\u001b[1;33m)\u001b[0m\u001b[1;33m\u001b[0m\u001b[1;33m\u001b[0m\u001b[0m\n\u001b[0;32m      7\u001b[0m             \u001b[0mxdata\u001b[0m\u001b[1;33m=\u001b[0m\u001b[0mget_data\u001b[0m\u001b[1;33m(\u001b[0m\u001b[0maddr\u001b[0m\u001b[1;33m)\u001b[0m\u001b[1;33m\u001b[0m\u001b[1;33m\u001b[0m\u001b[0m\n\u001b[1;32m----> 8\u001b[1;33m             \u001b[0mydata\u001b[0m\u001b[1;33m=\u001b[0m\u001b[0mget_data\u001b[0m\u001b[1;33m(\u001b[0m\u001b[0maddr\u001b[0m\u001b[1;33m+\u001b[0m\u001b[0mstr\u001b[0m\u001b[1;33m(\u001b[0m\u001b[0mi\u001b[0m\u001b[1;33m+\u001b[0m\u001b[1;36m1\u001b[0m\u001b[1;33m)\u001b[0m\u001b[1;33m)\u001b[0m\u001b[1;33m\u001b[0m\u001b[1;33m\u001b[0m\u001b[0m\n\u001b[0m\u001b[0;32m      9\u001b[0m             \u001b[0mzdata\u001b[0m\u001b[1;33m=\u001b[0m\u001b[0mpd\u001b[0m\u001b[1;33m.\u001b[0m\u001b[0mconcat\u001b[0m\u001b[1;33m(\u001b[0m\u001b[1;33m[\u001b[0m\u001b[0mxdata\u001b[0m\u001b[1;33m,\u001b[0m\u001b[0mydata\u001b[0m\u001b[1;33m]\u001b[0m\u001b[1;33m)\u001b[0m\u001b[1;33m\u001b[0m\u001b[1;33m\u001b[0m\u001b[0m\n\u001b[0;32m     10\u001b[0m         \u001b[1;32melse\u001b[0m\u001b[1;33m:\u001b[0m\u001b[1;33m\u001b[0m\u001b[1;33m\u001b[0m\u001b[0m\n",
      "\u001b[1;32m<ipython-input-7-a041647f035d>\u001b[0m in \u001b[0;36mget_data\u001b[1;34m(url)\u001b[0m\n\u001b[0;32m      7\u001b[0m     \u001b[0mlis\u001b[0m \u001b[1;33m=\u001b[0m \u001b[0mscore_result\u001b[0m\u001b[1;33m.\u001b[0m\u001b[0mfindAll\u001b[0m\u001b[1;33m(\u001b[0m\u001b[1;34m'li'\u001b[0m\u001b[1;33m)\u001b[0m\u001b[1;33m\u001b[0m\u001b[1;33m\u001b[0m\u001b[0m\n\u001b[0;32m      8\u001b[0m     \u001b[1;32mfor\u001b[0m \u001b[0mli\u001b[0m \u001b[1;32min\u001b[0m \u001b[0mlis\u001b[0m\u001b[1;33m:\u001b[0m\u001b[1;33m\u001b[0m\u001b[1;33m\u001b[0m\u001b[0m\n\u001b[1;32m----> 9\u001b[1;33m         \u001b[0mreview_text\u001b[0m \u001b[1;33m=\u001b[0m \u001b[0mli\u001b[0m\u001b[1;33m.\u001b[0m\u001b[0mfind_all\u001b[0m\u001b[1;33m(\u001b[0m\u001b[1;34m'p'\u001b[0m\u001b[1;33m)\u001b[0m\u001b[1;33m[\u001b[0m\u001b[1;36m1\u001b[0m\u001b[1;33m]\u001b[0m\u001b[1;33m.\u001b[0m\u001b[0mgetText\u001b[0m\u001b[1;33m(\u001b[0m\u001b[1;33m)\u001b[0m\u001b[1;33m\u001b[0m\u001b[1;33m\u001b[0m\u001b[0m\n\u001b[0m\u001b[0;32m     10\u001b[0m         \u001b[0mreview_score\u001b[0m\u001b[1;33m=\u001b[0m\u001b[0mli\u001b[0m\u001b[1;33m.\u001b[0m\u001b[0mfind_all\u001b[0m\u001b[1;33m(\u001b[0m\u001b[1;34m'span'\u001b[0m\u001b[1;33m)\u001b[0m\u001b[1;33m[\u001b[0m\u001b[1;36m1\u001b[0m\u001b[1;33m]\u001b[0m\u001b[1;33m.\u001b[0m\u001b[0mgetText\u001b[0m\u001b[1;33m(\u001b[0m\u001b[1;33m)\u001b[0m\u001b[1;33m\u001b[0m\u001b[1;33m\u001b[0m\u001b[0m\n\u001b[0;32m     11\u001b[0m         \u001b[0mcustomer\u001b[0m\u001b[1;33m=\u001b[0m\u001b[0mli\u001b[0m\u001b[1;33m.\u001b[0m\u001b[0mfind_all\u001b[0m\u001b[1;33m(\u001b[0m\u001b[1;34m'span'\u001b[0m\u001b[1;33m)\u001b[0m\u001b[1;33m[\u001b[0m\u001b[1;36m0\u001b[0m\u001b[1;33m]\u001b[0m\u001b[1;33m.\u001b[0m\u001b[0mgetText\u001b[0m\u001b[1;33m(\u001b[0m\u001b[1;33m)\u001b[0m\u001b[1;33m\u001b[0m\u001b[1;33m\u001b[0m\u001b[0m\n",
      "\u001b[1;31mIndexError\u001b[0m: list index out of range"
     ]
    }
   ],
   "source": [
    "Mycrawl(4)"
   ]
  },
  {
   "cell_type": "code",
   "execution_count": 35,
   "metadata": {},
   "outputs": [],
   "source": [
    "import sqlite3\n",
    "import requests\n",
    "from bs4 import BeautifulSoup\n",
    "import sqlite3\n",
    "from konlpy.tag import *\n",
    "from konlpy.utils import pprint\n",
    "\n",
    "import pandas as pd"
   ]
  },
  {
   "cell_type": "code",
   "execution_count": 33,
   "metadata": {},
   "outputs": [],
   "source": [
    "test_url = \"http://www.gevolution.co.kr/game/get_rate_list.asp?svc=160193&m=5&p=\"\n",
    "df=Mycrawl(9)"
   ]
  },
  {
   "cell_type": "code",
   "execution_count": 34,
   "metadata": {},
   "outputs": [
    {
     "name": "stdout",
     "output_type": "stream",
     "text": [
      "(90, 3)\n"
     ]
    }
   ],
   "source": [
    "print(df.shape)"
   ]
  },
  {
   "cell_type": "code",
   "execution_count": 35,
   "metadata": {},
   "outputs": [
    {
     "data": {
      "text/html": [
       "<div>\n",
       "<style scoped>\n",
       "    .dataframe tbody tr th:only-of-type {\n",
       "        vertical-align: middle;\n",
       "    }\n",
       "\n",
       "    .dataframe tbody tr th {\n",
       "        vertical-align: top;\n",
       "    }\n",
       "\n",
       "    .dataframe thead th {\n",
       "        text-align: right;\n",
       "    }\n",
       "</style>\n",
       "<table border=\"1\" class=\"dataframe\">\n",
       "  <thead>\n",
       "    <tr style=\"text-align: right;\">\n",
       "      <th></th>\n",
       "      <th>Customer</th>\n",
       "      <th>Review</th>\n",
       "      <th>Score</th>\n",
       "    </tr>\n",
       "  </thead>\n",
       "  <tbody>\n",
       "    <tr>\n",
       "      <th>85</th>\n",
       "      <td>황주*</td>\n",
       "      <td>\\r\\n\\t\\t\\t\\t\\t신분증 등록시 촬영버튼을 눌러도 촬영이 안되는 불편이 있음...</td>\n",
       "      <td>1</td>\n",
       "    </tr>\n",
       "    <tr>\n",
       "      <th>86</th>\n",
       "      <td>누구나하***</td>\n",
       "      <td>\\r\\n\\t\\t\\t\\t\\t3.2 짜리로 표기해놓고 3.4 있어도 안사지더만 실제 수...</td>\n",
       "      <td>1</td>\n",
       "    </tr>\n",
       "    <tr>\n",
       "      <th>87</th>\n",
       "      <td>홍성*</td>\n",
       "      <td>\\r\\n\\t\\t\\t\\t\\t차트설정 오류 및 검색기능이나 모든것이 불편함\\r\\n\\t\\...</td>\n",
       "      <td>1</td>\n",
       "    </tr>\n",
       "    <tr>\n",
       "      <th>88</th>\n",
       "      <td>ㄱㄴ*</td>\n",
       "      <td>\\r\\n\\t\\t\\t\\t\\t회원가입시 휴대폰번호 입력란이 클릭되지 않아 번호입력이 불...</td>\n",
       "      <td>1</td>\n",
       "    </tr>\n",
       "    <tr>\n",
       "      <th>89</th>\n",
       "      <td>박성*</td>\n",
       "      <td>\\r\\n\\t\\t\\t\\t\\t폰에서 뒤로가가 버튼 누르면바로 종료화면 창뜨게해주세요 종...</td>\n",
       "      <td>1</td>\n",
       "    </tr>\n",
       "  </tbody>\n",
       "</table>\n",
       "</div>"
      ],
      "text/plain": [
       "   Customer                                             Review Score\n",
       "85      황주*  \\r\\n\\t\\t\\t\\t\\t신분증 등록시 촬영버튼을 눌러도 촬영이 안되는 불편이 있음...     1\n",
       "86  누구나하***  \\r\\n\\t\\t\\t\\t\\t3.2 짜리로 표기해놓고 3.4 있어도 안사지더만 실제 수...     1\n",
       "87      홍성*  \\r\\n\\t\\t\\t\\t\\t차트설정 오류 및 검색기능이나 모든것이 불편함\\r\\n\\t\\...     1\n",
       "88      ㄱㄴ*  \\r\\n\\t\\t\\t\\t\\t회원가입시 휴대폰번호 입력란이 클릭되지 않아 번호입력이 불...     1\n",
       "89      박성*  \\r\\n\\t\\t\\t\\t\\t폰에서 뒤로가가 버튼 누르면바로 종료화면 창뜨게해주세요 종...     1"
      ]
     },
     "execution_count": 35,
     "metadata": {},
     "output_type": "execute_result"
    }
   ],
   "source": [
    "df.head()\n",
    "df.tail()"
   ]
  },
  {
   "cell_type": "code",
   "execution_count": 36,
   "metadata": {},
   "outputs": [
    {
     "name": "stdout",
     "output_type": "stream",
     "text": [
      "Requirement already satisfied: wordcloud in c:\\programdata\\anaconda3\\lib\\site-packages (1.5.0)\n",
      "Requirement already satisfied: numpy>=1.6.1 in c:\\programdata\\anaconda3\\lib\\site-packages (from wordcloud) (1.16.2)\n",
      "Requirement already satisfied: pillow in c:\\programdata\\anaconda3\\lib\\site-packages (from wordcloud) (5.4.1)\n",
      "Note: you may need to restart the kernel to use updated packages.\n"
     ]
    }
   ],
   "source": [
    "pip install wordcloud"
   ]
  },
  {
   "cell_type": "code",
   "execution_count": 36,
   "metadata": {},
   "outputs": [
    {
     "name": "stdout",
     "output_type": "stream",
     "text": [
      "Malgun Gothic\n"
     ]
    },
    {
     "data": {
      "text/plain": [
       "<Figure size 864x864 with 0 Axes>"
      ]
     },
     "metadata": {},
     "output_type": "display_data"
    }
   ],
   "source": [
    "from wordcloud import WordCloud \n",
    "import matplotlib\n",
    "import matplotlib.pyplot as plt\n",
    "plt.figure(figsize=(12,12))\n",
    "import matplotlib.font_manager as fm\n",
    "font_location = 'malgun.ttf'  \n",
    "#C:\\\\Users\\\\Administrator\\\\Documents\\\\asiasummer\\\\webdata\\\\\n",
    "font_name = fm.FontProperties(fname = font_location).get_name()\n",
    "matplotlib.rc('font', family = font_name)\n",
    "\n",
    "print(font_name)"
   ]
  },
  {
   "cell_type": "code",
   "execution_count": 40,
   "metadata": {},
   "outputs": [],
   "source": [
    "alpha=str(x['Review'])"
   ]
  },
  {
   "cell_type": "code",
   "execution_count": 46,
   "metadata": {},
   "outputs": [],
   "source": [
    "w = WordCloud(\n",
    "    font_path = 'malgun.ttf',\n",
    "    width = 3000,\n",
    "    height = 3000,\n",
    "    stopwords=['t','/','r','n',\"있습니다\",\"해주세요\",\"어플\",\"쓰고\",\"사용하고\",\"증권사\",\"주식\",\"만들어\"],background_color=\"white\"\n",
    ")\n",
    "w=w.generate(alpha)\n"
   ]
  },
  {
   "cell_type": "code",
   "execution_count": 47,
   "metadata": {},
   "outputs": [
    {
     "data": {
      "text/plain": [
       "<matplotlib.image.AxesImage at 0x1d08f600eb8>"
      ]
     },
     "execution_count": 47,
     "metadata": {},
     "output_type": "execute_result"
    },
    {
     "data": {
      "image/png": "[encoded data removed]",
      "text/plain": [
       "<Figure size 432x288 with 1 Axes>"
      ]
     },
     "metadata": {
      "needs_background": "light"
     },
     "output_type": "display_data"
    }
   ],
   "source": [
    "plt.imshow(w,interpolation='bilinear')"
   ]
  },
  {
   "cell_type": "code",
   "execution_count": null,
   "metadata": {},
   "outputs": [],
   "source": []
  }
 ],
 "metadata": {
  "kernelspec": {
   "display_name": "Python 3",
   "language": "python",
   "name": "python3"
  },
  "language_info": {
   "codemirror_mode": {
    "name": "ipython",
    "version": 3
   },
   "file_extension": ".py",
   "mimetype": "text/x-python",
   "name": "python",
   "nbconvert_exporter": "python",
   "pygments_lexer": "ipython3",
   "version": "3.7.3"
  }
 },
 "nbformat": 4,
 "nbformat_minor": 2
}
