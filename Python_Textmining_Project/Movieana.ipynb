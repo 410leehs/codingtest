{
 "cells": [
  {
   "cell_type": "code",
   "execution_count": 126,
   "metadata": {},
   "outputs": [],
   "source": [
    "import sqlite3\n",
    "import matplotlib.pyplot as plt\n",
    "import numpy as np\n",
    "import seaborn as sns \n",
    "#sns는 바다색깔"
   ]
  },
  {
   "cell_type": "code",
   "execution_count": 23,
   "metadata": {},
   "outputs": [],
   "source": [
    "dbname=\"namovie.db\""
   ]
  },
  {
   "cell_type": "code",
   "execution_count": 1,
   "metadata": {},
   "outputs": [],
   "source": [
    "def seldb(tcode):\n",
    "    with sqlite3.connect(dbname) as conn:\n",
    "        cur=conn.cursor() #커서는 하나씩 일을해나가는것\n",
    "        sql=\"\"\"\n",
    "        select \n",
    "        IDX,TITLE, POINT, TCODE \n",
    "        from movie1 \n",
    "        where TCODE='\"\"\"+str(tcode)+\"\"\"'\n",
    "        order by IDX\n",
    "        \"\"\"\n",
    "        data=cur.execute(sql).fetchall()\n",
    "        xdata=[]\n",
    "        ydata=[]\n",
    "        i=0\n",
    "        for d in data:\n",
    "            \n",
    "            xdata.append(i)\n",
    "            ydata.append(d[2])\n",
    "            i+=1\n",
    "            print(d,end=\"\\n\")\n",
    "            \n",
    "        conn.commit() #최종확인\n",
    "        cur.close()\n",
    "        return (xdata,ydata)\n",
    "        "
   ]
  },
  {
   "cell_type": "code",
   "execution_count": 107,
   "metadata": {},
   "outputs": [
    {
     "name": "stdout",
     "output_type": "stream",
     "text": [
      "(15889831, '기방도령', 10, 4)\n",
      "(15889832, '기방도령', 10, 4)\n",
      "(15889835, '기방도령', 10, 4)\n",
      "(15889837, '기방도령', 10, 4)\n",
      "(15889853, '기방도령', 10, 4)\n",
      "(15889859, '기방도령', 10, 4)\n",
      "(15889873, '기방도령', 8, 4)\n",
      "(15889875, '기방도령', 10, 4)\n",
      "(15889882, '기방도령', 10, 4)\n",
      "(15889884, '기방도령', 10, 4)\n",
      "(15889885, '기방도령', 10, 4)\n",
      "(15889889, '기방도령', 10, 4)\n",
      "(15889919, '기방도령', 10, 4)\n",
      "(15889921, '기방도령', 9, 4)\n",
      "(15889932, '기방도령', 10, 4)\n",
      "(15889933, '기방도령', 10, 4)\n",
      "(15889936, '기방도령', 10, 4)\n",
      "(15889951, '기방도령', 8, 4)\n",
      "(15889952, '기방도령', 10, 4)\n",
      "(15889957, '기방도령', 10, 4)\n",
      "(15889958, '기방도령', 9, 4)\n",
      "(15889959, '기방도령', 10, 4)\n",
      "(15889966, '기방도령', 10, 4)\n",
      "(15889968, '기방도령', 1, 4)\n",
      "(15889970, '기방도령', 10, 4)\n",
      "(15889973, '기방도령', 10, 4)\n",
      "(15889977, '기방도령', 10, 4)\n",
      "(15889990, '기방도령', 10, 4)\n",
      "(15889995, '기방도령', 10, 4)\n",
      "(15890005, '기방도령', 10, 4)\n",
      "(15890015, '기방도령', 10, 4)\n",
      "(15890019, '기방도령', 10, 4)\n"
     ]
    },
    {
     "data": {
      "text/plain": [
       "([0,\n",
       "  1,\n",
       "  2,\n",
       "  3,\n",
       "  4,\n",
       "  5,\n",
       "  6,\n",
       "  7,\n",
       "  8,\n",
       "  9,\n",
       "  10,\n",
       "  11,\n",
       "  12,\n",
       "  13,\n",
       "  14,\n",
       "  15,\n",
       "  16,\n",
       "  17,\n",
       "  18,\n",
       "  19,\n",
       "  20,\n",
       "  21,\n",
       "  22,\n",
       "  23,\n",
       "  24,\n",
       "  25,\n",
       "  26,\n",
       "  27,\n",
       "  28,\n",
       "  29,\n",
       "  30,\n",
       "  31],\n",
       " [10,\n",
       "  10,\n",
       "  10,\n",
       "  10,\n",
       "  10,\n",
       "  10,\n",
       "  8,\n",
       "  10,\n",
       "  10,\n",
       "  10,\n",
       "  10,\n",
       "  10,\n",
       "  10,\n",
       "  9,\n",
       "  10,\n",
       "  10,\n",
       "  10,\n",
       "  8,\n",
       "  10,\n",
       "  10,\n",
       "  9,\n",
       "  10,\n",
       "  10,\n",
       "  1,\n",
       "  10,\n",
       "  10,\n",
       "  10,\n",
       "  10,\n",
       "  10,\n",
       "  10,\n",
       "  10,\n",
       "  10])"
      ]
     },
     "execution_count": 107,
     "metadata": {},
     "output_type": "execute_result"
    }
   ],
   "source": [
    "seldb(4)"
   ]
  },
  {
   "cell_type": "code",
   "execution_count": 127,
   "metadata": {},
   "outputs": [],
   "source": [
    "def seltitle():\n",
    "    fig=plt.figure(figsize=(30,60))\n",
    "    with sqlite3.connect(dbname) as conn:\n",
    "        cur=conn.cursor() #커서는 하나씩 일을해나가는것\n",
    "        sql= 'select TIDX, TNAME from titles order by TIDX'\n",
    "        \n",
    "        data=cur.execute(sql).fetchall()\n",
    "        i=0\n",
    "        for d in data:\n",
    "            gdata=seldb(d[0])\n",
    "            if (len(gdata[0])>1):\n",
    "                #print(\"*\"*20)\n",
    "                #print(d[1])\n",
    "                #print(\"*\"*20)\n",
    "                #print(d,end=\"\\n\")\n",
    "                pos=divmod(i,3)\n",
    "                i+=1\n",
    "                plt.subplot(row,col,i)\n",
    "                x_=gdata[0]\n",
    "                y_=gdata[1]\n",
    "                #y=wx_+b\n",
    "                A=np.vstack([x_,np.ones(len(x_))]).T\n",
    "                w,b = np.linalg.listsq(A,y_)[0]\n",
    "                x_=np.ndarray(gdata[0])\n",
    "                plt.plot(x_,y_,'ro', label=\"DATA\")\n",
    "                plt.plot(x_,w*x_+b,'b', lacel=\"FIT\")\n",
    "                plt.legend()\n",
    "                \n",
    "                plt.title(d[1])\n",
    "        conn.commit() #최종확인\n",
    "        cur.close()\n",
    "        return (xdata,ydata)"
   ]
  },
  {
   "cell_type": "code",
   "execution_count": 128,
   "metadata": {},
   "outputs": [
    {
     "name": "stdout",
     "output_type": "stream",
     "text": [
      "(15890018, '극장판 쿠로코의 농구 라스트 게임', 10, 1)\n",
      "(15889867, '헬보이', 8, 2)\n",
      "(15890017, '헬보이', 1, 2)\n"
     ]
    },
    {
     "ename": "AttributeError",
     "evalue": "module 'numpy.linalg' has no attribute 'listsq'",
     "output_type": "error",
     "traceback": [
      "\u001b[1;31m---------------------------------------------------------------------------\u001b[0m",
      "\u001b[1;31mAttributeError\u001b[0m                            Traceback (most recent call last)",
      "\u001b[1;32m<ipython-input-128-a81243399579>\u001b[0m in \u001b[0;36m<module>\u001b[1;34m\u001b[0m\n\u001b[1;32m----> 1\u001b[1;33m \u001b[0mseltitle\u001b[0m\u001b[1;33m(\u001b[0m\u001b[1;33m)\u001b[0m\u001b[1;33m\u001b[0m\u001b[1;33m\u001b[0m\u001b[0m\n\u001b[0m",
      "\u001b[1;32m<ipython-input-127-342c2c3b5585>\u001b[0m in \u001b[0;36mseltitle\u001b[1;34m()\u001b[0m\n\u001b[0;32m     21\u001b[0m                 \u001b[1;31m#y=wx_+b\u001b[0m\u001b[1;33m\u001b[0m\u001b[1;33m\u001b[0m\u001b[1;33m\u001b[0m\u001b[0m\n\u001b[0;32m     22\u001b[0m                 \u001b[0mA\u001b[0m\u001b[1;33m=\u001b[0m\u001b[0mnp\u001b[0m\u001b[1;33m.\u001b[0m\u001b[0mvstack\u001b[0m\u001b[1;33m(\u001b[0m\u001b[1;33m[\u001b[0m\u001b[0mx_\u001b[0m\u001b[1;33m,\u001b[0m\u001b[0mnp\u001b[0m\u001b[1;33m.\u001b[0m\u001b[0mones\u001b[0m\u001b[1;33m(\u001b[0m\u001b[0mlen\u001b[0m\u001b[1;33m(\u001b[0m\u001b[0mx_\u001b[0m\u001b[1;33m)\u001b[0m\u001b[1;33m)\u001b[0m\u001b[1;33m]\u001b[0m\u001b[1;33m)\u001b[0m\u001b[1;33m.\u001b[0m\u001b[0mT\u001b[0m\u001b[1;33m\u001b[0m\u001b[1;33m\u001b[0m\u001b[0m\n\u001b[1;32m---> 23\u001b[1;33m                 \u001b[0mw\u001b[0m\u001b[1;33m,\u001b[0m\u001b[0mb\u001b[0m \u001b[1;33m=\u001b[0m \u001b[0mnp\u001b[0m\u001b[1;33m.\u001b[0m\u001b[0mlinalg\u001b[0m\u001b[1;33m.\u001b[0m\u001b[0mlistsq\u001b[0m\u001b[1;33m(\u001b[0m\u001b[0mA\u001b[0m\u001b[1;33m,\u001b[0m\u001b[0my_\u001b[0m\u001b[1;33m)\u001b[0m\u001b[1;33m[\u001b[0m\u001b[1;36m0\u001b[0m\u001b[1;33m]\u001b[0m\u001b[1;33m\u001b[0m\u001b[1;33m\u001b[0m\u001b[0m\n\u001b[0m\u001b[0;32m     24\u001b[0m                 \u001b[0mx_\u001b[0m\u001b[1;33m=\u001b[0m\u001b[0mnp\u001b[0m\u001b[1;33m.\u001b[0m\u001b[0mndarray\u001b[0m\u001b[1;33m(\u001b[0m\u001b[0mgdata\u001b[0m\u001b[1;33m[\u001b[0m\u001b[1;36m0\u001b[0m\u001b[1;33m]\u001b[0m\u001b[1;33m)\u001b[0m\u001b[1;33m\u001b[0m\u001b[1;33m\u001b[0m\u001b[0m\n\u001b[0;32m     25\u001b[0m                 \u001b[0mplt\u001b[0m\u001b[1;33m.\u001b[0m\u001b[0mplot\u001b[0m\u001b[1;33m(\u001b[0m\u001b[0mx_\u001b[0m\u001b[1;33m,\u001b[0m\u001b[0my_\u001b[0m\u001b[1;33m,\u001b[0m\u001b[1;34m'ro'\u001b[0m\u001b[1;33m,\u001b[0m \u001b[0mlabel\u001b[0m\u001b[1;33m=\u001b[0m\u001b[1;34m\"DATA\"\u001b[0m\u001b[1;33m)\u001b[0m\u001b[1;33m\u001b[0m\u001b[1;33m\u001b[0m\u001b[0m\n",
      "\u001b[1;31mAttributeError\u001b[0m: module 'numpy.linalg' has no attribute 'listsq'"
     ]
    },
    {
     "data": {
      "image/png": "[encoded data removed]",
      "text/plain": [
       "<Figure size 2160x4320 with 1 Axes>"
      ]
     },
     "metadata": {
      "needs_background": "light"
     },
     "output_type": "display_data"
    }
   ],
   "source": [
    "seltitle()"
   ]
  },
  {
   "cell_type": "code",
   "execution_count": null,
   "metadata": {},
   "outputs": [],
   "source": []
  },
  {
   "cell_type": "code",
   "execution_count": null,
   "metadata": {},
   "outputs": [],
   "source": []
  }
 ],
 "metadata": {
  "kernelspec": {
   "display_name": "Python 3",
   "language": "python",
   "name": "python3"
  },
  "language_info": {
   "codemirror_mode": {
    "name": "ipython",
    "version": 3
   },
   "file_extension": ".py",
   "mimetype": "text/x-python",
   "name": "python",
   "nbconvert_exporter": "python",
   "pygments_lexer": "ipython3",
   "version": "3.7.3"
  }
 },
 "nbformat": 4,
 "nbformat_minor": 2
}
