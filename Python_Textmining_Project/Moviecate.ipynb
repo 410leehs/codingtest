{
 "cells": [
  {
   "cell_type": "code",
   "execution_count": 9,
   "metadata": {},
   "outputs": [],
   "source": [
    "import sqlite3"
   ]
  },
  {
   "cell_type": "code",
   "execution_count": 10,
   "metadata": {},
   "outputs": [],
   "source": [
    "dbname=\"namovie.db\""
   ]
  },
  {
   "cell_type": "code",
   "execution_count": 12,
   "metadata": {},
   "outputs": [],
   "source": [
    "def makedb(dbname):\n",
    "    with sqlite3.connect('namovie.db') as conn:\n",
    "        cur=conn.cursor() #커서는 하나씩 일을해나가는것\n",
    "        sql= 'create table titles(TIDX integer primary key autoincrement,TNAME varchar(100), TCNT integer,TTOTAL integer)'\n",
    "        #TIDX는 중복이 되면 안됨. 따라서 오토인크리먼트, 자동증가하도록 만든다\n",
    "        cur.execute(sql)\n",
    "        conn.commit() #최종확인\n",
    "        cur.close()"
   ]
  },
  {
   "cell_type": "markdown",
   "metadata": {},
   "source": [
    "#동적인 웹페이지에서 동적인 부분에서 관리할 데이터를 보관할 곳이 필요하다\n",
    "#데이터를 보관하게될 장소 : 데이터 베이스-> 테이블이 반드시 존재해야 한다.\n",
    "#테이블을 만들어 서로간의 관계를 갖는다. RDBMS(관계형 데이터베이스-데이터 감소 효율증가, 유연한관리가능)\n",
    "#정적인 부분 : 헤더, 풋터(공통장소)\n"
   ]
  },
  {
   "cell_type": "code",
   "execution_count": null,
   "metadata": {},
   "outputs": [],
   "source": []
  },
  {
   "cell_type": "code",
   "execution_count": null,
   "metadata": {},
   "outputs": [],
   "source": []
  },
  {
   "cell_type": "code",
   "execution_count": null,
   "metadata": {},
   "outputs": [],
   "source": []
  },
  {
   "cell_type": "code",
   "execution_count": null,
   "metadata": {},
   "outputs": [],
   "source": []
  }
 ],
 "metadata": {
  "kernelspec": {
   "display_name": "Python 3",
   "language": "python",
   "name": "python3"
  },
  "language_info": {
   "codemirror_mode": {
    "name": "ipython",
    "version": 3
   },
   "file_extension": ".py",
   "mimetype": "text/x-python",
   "name": "python",
   "nbconvert_exporter": "python",
   "pygments_lexer": "ipython3",
   "version": "3.7.3"
  }
 },
 "nbformat": 4,
 "nbformat_minor": 2
}
